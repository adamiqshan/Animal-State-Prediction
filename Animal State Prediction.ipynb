{
  "nbformat": 4,
  "nbformat_minor": 0,
  "metadata": {
    "kernelspec": {
      "display_name": "Python 3",
      "language": "python",
      "name": "python3"
    },
    "language_info": {
      "codemirror_mode": {
        "name": "ipython",
        "version": 3
      },
      "file_extension": ".py",
      "mimetype": "text/x-python",
      "name": "python",
      "nbconvert_exporter": "python",
      "pygments_lexer": "ipython3",
      "version": "3.7.4"
    },
    "colab": {
      "name": "Animal State Prediction.ipynb",
      "provenance": []
    }
  },
  "cells": [
    {
      "cell_type": "markdown",
      "metadata": {
        "id": "Bg2q64TWBy-4",
        "colab_type": "text"
      },
      "source": [
        "<h3>Importing Necessary Libraries</h3>"
      ]
    },
    {
      "cell_type": "code",
      "metadata": {
        "id": "AJJIL3_KBy-6",
        "colab_type": "code",
        "colab": {}
      },
      "source": [
        "import numpy as np\n",
        "import pandas as pd\n",
        "import seaborn as sns\n",
        "import matplotlib.pyplot as plt\n",
        "pd.options.display.max_rows = 100\n",
        "pd.options.display.max_columns = 100"
      ],
      "execution_count": 0,
      "outputs": []
    },
    {
      "cell_type": "markdown",
      "metadata": {
        "id": "1iq_Zu1JBy--",
        "colab_type": "text"
      },
      "source": [
        "<h3>Exploring Datasets</h3>"
      ]
    },
    {
      "cell_type": "code",
      "metadata": {
        "id": "kuWAA2MIBy-_",
        "colab_type": "code",
        "colab": {
          "base_uri": "https://localhost:8080/",
          "height": 617
        },
        "outputId": "3d0d4349-289a-4456-b526-2a4578c2498d"
      },
      "source": [
        "train = pd.read_csv('/content/drive/My Drive/Animal Shelter/train.csv')\n",
        "test = pd.read_csv('/content/drive/My Drive/Animal Shelter/test.csv')\n",
        "\n",
        "train.head(10)"
      ],
      "execution_count": 3,
      "outputs": [
        {
          "output_type": "execute_result",
          "data": {
            "text/html": [
              "<div>\n",
              "<style scoped>\n",
              "    .dataframe tbody tr th:only-of-type {\n",
              "        vertical-align: middle;\n",
              "    }\n",
              "\n",
              "    .dataframe tbody tr th {\n",
              "        vertical-align: top;\n",
              "    }\n",
              "\n",
              "    .dataframe thead th {\n",
              "        text-align: right;\n",
              "    }\n",
              "</style>\n",
              "<table border=\"1\" class=\"dataframe\">\n",
              "  <thead>\n",
              "    <tr style=\"text-align: right;\">\n",
              "      <th></th>\n",
              "      <th>animal_id_outcome</th>\n",
              "      <th>dob_year</th>\n",
              "      <th>dob_month</th>\n",
              "      <th>age_upon_intake</th>\n",
              "      <th>animal_type</th>\n",
              "      <th>breed</th>\n",
              "      <th>color</th>\n",
              "      <th>intake_condition</th>\n",
              "      <th>intake_type</th>\n",
              "      <th>sex_upon_intake</th>\n",
              "      <th>count</th>\n",
              "      <th>age_upon_intake_(days)</th>\n",
              "      <th>age_upon_intake_(years)</th>\n",
              "      <th>age_upon_intake_age_group</th>\n",
              "      <th>intake_datetime</th>\n",
              "      <th>intake_month</th>\n",
              "      <th>intake_year</th>\n",
              "      <th>intake_monthyear</th>\n",
              "      <th>intake_weekday</th>\n",
              "      <th>intake_hour</th>\n",
              "      <th>intake_number</th>\n",
              "      <th>time_in_shelter</th>\n",
              "      <th>time_in_shelter_days</th>\n",
              "      <th>age_upon_outcome</th>\n",
              "      <th>date_of_birth</th>\n",
              "      <th>sex_upon_outcome</th>\n",
              "      <th>age_upon_outcome_(days)</th>\n",
              "      <th>age_upon_outcome_(years)</th>\n",
              "      <th>age_upon_outcome_age_group</th>\n",
              "      <th>outcome_datetime</th>\n",
              "      <th>outcome_month</th>\n",
              "      <th>outcome_year</th>\n",
              "      <th>outcome_monthyear</th>\n",
              "      <th>outcome_weekday</th>\n",
              "      <th>outcome_hour</th>\n",
              "      <th>outcome_number</th>\n",
              "      <th>outcome_type</th>\n",
              "    </tr>\n",
              "  </thead>\n",
              "  <tbody>\n",
              "    <tr>\n",
              "      <th>0</th>\n",
              "      <td>A006100</td>\n",
              "      <td>2007</td>\n",
              "      <td>7</td>\n",
              "      <td>10 years</td>\n",
              "      <td>Dog</td>\n",
              "      <td>Spinone Italiano Mix</td>\n",
              "      <td>Yellow/White</td>\n",
              "      <td>Normal</td>\n",
              "      <td>Stray</td>\n",
              "      <td>Neutered Male</td>\n",
              "      <td>1</td>\n",
              "      <td>3650</td>\n",
              "      <td>10.0</td>\n",
              "      <td>(7.5, 10.0]</td>\n",
              "      <td>2017-12-07 00:00:00</td>\n",
              "      <td>12</td>\n",
              "      <td>2017</td>\n",
              "      <td>2017-12</td>\n",
              "      <td>Thursday</td>\n",
              "      <td>14</td>\n",
              "      <td>1.0</td>\n",
              "      <td>0 days 14:07:00.000000000</td>\n",
              "      <td>0.588194</td>\n",
              "      <td>10 years</td>\n",
              "      <td>2007-07-09 00:00:00</td>\n",
              "      <td>Neutered Male</td>\n",
              "      <td>3650</td>\n",
              "      <td>10.0</td>\n",
              "      <td>(7.5, 10.0]</td>\n",
              "      <td>2017-12-07 14:07:00</td>\n",
              "      <td>12</td>\n",
              "      <td>2017</td>\n",
              "      <td>2017-12</td>\n",
              "      <td>Thursday</td>\n",
              "      <td>0</td>\n",
              "      <td>1.0</td>\n",
              "      <td>Return to Owner</td>\n",
              "    </tr>\n",
              "    <tr>\n",
              "      <th>1</th>\n",
              "      <td>A006100</td>\n",
              "      <td>2007</td>\n",
              "      <td>7</td>\n",
              "      <td>7 years</td>\n",
              "      <td>Dog</td>\n",
              "      <td>Spinone Italiano Mix</td>\n",
              "      <td>Yellow/White</td>\n",
              "      <td>Normal</td>\n",
              "      <td>Public Assist</td>\n",
              "      <td>Neutered Male</td>\n",
              "      <td>1</td>\n",
              "      <td>2555</td>\n",
              "      <td>7.0</td>\n",
              "      <td>(5.0, 7.5]</td>\n",
              "      <td>2014-12-19 10:21:00</td>\n",
              "      <td>12</td>\n",
              "      <td>2014</td>\n",
              "      <td>2014-12</td>\n",
              "      <td>Friday</td>\n",
              "      <td>10</td>\n",
              "      <td>2.0</td>\n",
              "      <td>1 days 06:14:00.000000000</td>\n",
              "      <td>1.259722</td>\n",
              "      <td>7 years</td>\n",
              "      <td>2007-07-09 00:00:00</td>\n",
              "      <td>Neutered Male</td>\n",
              "      <td>2555</td>\n",
              "      <td>7.0</td>\n",
              "      <td>(5.0, 7.5]</td>\n",
              "      <td>2014-12-20 16:35:00</td>\n",
              "      <td>12</td>\n",
              "      <td>2014</td>\n",
              "      <td>2014-12</td>\n",
              "      <td>Saturday</td>\n",
              "      <td>16</td>\n",
              "      <td>2.0</td>\n",
              "      <td>Return to Owner</td>\n",
              "    </tr>\n",
              "    <tr>\n",
              "      <th>2</th>\n",
              "      <td>A006100</td>\n",
              "      <td>2007</td>\n",
              "      <td>7</td>\n",
              "      <td>6 years</td>\n",
              "      <td>Dog</td>\n",
              "      <td>Spinone Italiano Mix</td>\n",
              "      <td>Yellow/White</td>\n",
              "      <td>Normal</td>\n",
              "      <td>Public Assist</td>\n",
              "      <td>Neutered Male</td>\n",
              "      <td>1</td>\n",
              "      <td>2190</td>\n",
              "      <td>6.0</td>\n",
              "      <td>(5.0, 7.5]</td>\n",
              "      <td>2014-03-07 14:26:00</td>\n",
              "      <td>3</td>\n",
              "      <td>2014</td>\n",
              "      <td>2014-03</td>\n",
              "      <td>Friday</td>\n",
              "      <td>14</td>\n",
              "      <td>3.0</td>\n",
              "      <td>1 days 02:44:00.000000000</td>\n",
              "      <td>1.113889</td>\n",
              "      <td>6 years</td>\n",
              "      <td>2007-07-09 00:00:00</td>\n",
              "      <td>Neutered Male</td>\n",
              "      <td>2190</td>\n",
              "      <td>6.0</td>\n",
              "      <td>(5.0, 7.5]</td>\n",
              "      <td>NaN</td>\n",
              "      <td>3</td>\n",
              "      <td>2014</td>\n",
              "      <td>2014-03</td>\n",
              "      <td>Saturday</td>\n",
              "      <td>17</td>\n",
              "      <td>3.0</td>\n",
              "      <td>Return to Owner</td>\n",
              "    </tr>\n",
              "    <tr>\n",
              "      <th>3</th>\n",
              "      <td>A047759</td>\n",
              "      <td>2004</td>\n",
              "      <td>4</td>\n",
              "      <td>10 years</td>\n",
              "      <td>Dog</td>\n",
              "      <td>Dachshund</td>\n",
              "      <td>Tricolor</td>\n",
              "      <td>Normal</td>\n",
              "      <td>Owner Surrender</td>\n",
              "      <td>Neutered Male</td>\n",
              "      <td>1</td>\n",
              "      <td>3650</td>\n",
              "      <td>10.0</td>\n",
              "      <td>(7.5, 10.0]</td>\n",
              "      <td>2014-04-02 15:55:00</td>\n",
              "      <td>4</td>\n",
              "      <td>2014</td>\n",
              "      <td>2014-04</td>\n",
              "      <td>Wednesday</td>\n",
              "      <td>15</td>\n",
              "      <td>1.0</td>\n",
              "      <td>4 days 23:17:00.000000000</td>\n",
              "      <td>4.970139</td>\n",
              "      <td>10 years</td>\n",
              "      <td>2004-04-02 00:00:00</td>\n",
              "      <td>Neutered Male</td>\n",
              "      <td>3650</td>\n",
              "      <td>10.0</td>\n",
              "      <td>(7.5, 10.0]</td>\n",
              "      <td>2014-04-07 15:12:00</td>\n",
              "      <td>4</td>\n",
              "      <td>2014</td>\n",
              "      <td>2014-04</td>\n",
              "      <td>Monday</td>\n",
              "      <td>15</td>\n",
              "      <td>1.0</td>\n",
              "      <td>Missing</td>\n",
              "    </tr>\n",
              "    <tr>\n",
              "      <th>4</th>\n",
              "      <td>A134067</td>\n",
              "      <td>1997</td>\n",
              "      <td>10</td>\n",
              "      <td>16 years</td>\n",
              "      <td>Dog</td>\n",
              "      <td>Shetland Sheepdog</td>\n",
              "      <td>Brown/White</td>\n",
              "      <td>Injured</td>\n",
              "      <td>Public Assist</td>\n",
              "      <td>Neutered Male</td>\n",
              "      <td>1</td>\n",
              "      <td>5840</td>\n",
              "      <td>16.0</td>\n",
              "      <td>(15.0, 17.5]</td>\n",
              "      <td>2013-11-16 09:02:00</td>\n",
              "      <td>11</td>\n",
              "      <td>2013</td>\n",
              "      <td>2013-11</td>\n",
              "      <td>Saturday</td>\n",
              "      <td>9</td>\n",
              "      <td>1.0</td>\n",
              "      <td>0 days 02:52:00.000000000</td>\n",
              "      <td>0.119444</td>\n",
              "      <td>16 years</td>\n",
              "      <td>1997-10-16 00:00:00</td>\n",
              "      <td>Neutered Male</td>\n",
              "      <td>5840</td>\n",
              "      <td>16.0</td>\n",
              "      <td>(15.0, 17.5]</td>\n",
              "      <td>2013-11-16 11:54:00</td>\n",
              "      <td>11</td>\n",
              "      <td>2013</td>\n",
              "      <td>2013-11</td>\n",
              "      <td>Saturday</td>\n",
              "      <td>11</td>\n",
              "      <td>1.0</td>\n",
              "      <td>Return to Owner</td>\n",
              "    </tr>\n",
              "    <tr>\n",
              "      <th>5</th>\n",
              "      <td>A141142</td>\n",
              "      <td>1998</td>\n",
              "      <td>6</td>\n",
              "      <td>15 years</td>\n",
              "      <td>Dog</td>\n",
              "      <td>Labrador Retriever/Pit Bull</td>\n",
              "      <td>Black/White</td>\n",
              "      <td>Aged</td>\n",
              "      <td>Stray</td>\n",
              "      <td>Spayed Female</td>\n",
              "      <td>1</td>\n",
              "      <td>5475</td>\n",
              "      <td>15.0</td>\n",
              "      <td>(12.5, 15.0]</td>\n",
              "      <td>2013-11-16 14:46:00</td>\n",
              "      <td>11</td>\n",
              "      <td>2013</td>\n",
              "      <td>2013-11</td>\n",
              "      <td>Saturday</td>\n",
              "      <td>14</td>\n",
              "      <td>1.0</td>\n",
              "      <td>0 days 20:54:00.000000000</td>\n",
              "      <td>0.870833</td>\n",
              "      <td>15 years</td>\n",
              "      <td>1998-06-01 00:00:00</td>\n",
              "      <td>Spayed Female</td>\n",
              "      <td>5475</td>\n",
              "      <td>15.0</td>\n",
              "      <td>(12.5, 15.0]</td>\n",
              "      <td>2013-11-17 11:40:00</td>\n",
              "      <td>11</td>\n",
              "      <td>2013</td>\n",
              "      <td>2013-11</td>\n",
              "      <td>Sunday</td>\n",
              "      <td>11</td>\n",
              "      <td>1.0</td>\n",
              "      <td>Return to Owner</td>\n",
              "    </tr>\n",
              "    <tr>\n",
              "      <th>6</th>\n",
              "      <td>A163459</td>\n",
              "      <td>1999</td>\n",
              "      <td>10</td>\n",
              "      <td>15 years</td>\n",
              "      <td>Dog</td>\n",
              "      <td>Miniature Schnauzer Mix</td>\n",
              "      <td>Black/Gray</td>\n",
              "      <td>Normal</td>\n",
              "      <td>Stray</td>\n",
              "      <td>Intact Female</td>\n",
              "      <td>1</td>\n",
              "      <td>5475</td>\n",
              "      <td>15.0</td>\n",
              "      <td>(12.5, 15.0]</td>\n",
              "      <td>2014-11-14 15:11:00</td>\n",
              "      <td>11</td>\n",
              "      <td>2014</td>\n",
              "      <td>2014-11</td>\n",
              "      <td>Friday</td>\n",
              "      <td>15</td>\n",
              "      <td>1.0</td>\n",
              "      <td>0 days 04:17:00.000000000</td>\n",
              "      <td>0.178472</td>\n",
              "      <td>15 years</td>\n",
              "      <td>1999-10-19 00:00:00</td>\n",
              "      <td>Intact Female</td>\n",
              "      <td>5475</td>\n",
              "      <td>15.0</td>\n",
              "      <td>(12.5, 15.0]</td>\n",
              "      <td>2014-11-14 19:28:00</td>\n",
              "      <td>11</td>\n",
              "      <td>2014</td>\n",
              "      <td>2014-11</td>\n",
              "      <td>Friday</td>\n",
              "      <td>19</td>\n",
              "      <td>1.0</td>\n",
              "      <td>Return to Owner</td>\n",
              "    </tr>\n",
              "    <tr>\n",
              "      <th>7</th>\n",
              "      <td>A165752</td>\n",
              "      <td>1999</td>\n",
              "      <td>8</td>\n",
              "      <td>15 years</td>\n",
              "      <td>Dog</td>\n",
              "      <td>Lhasa Apso Mix</td>\n",
              "      <td>Brown/White</td>\n",
              "      <td>Normal</td>\n",
              "      <td>Stray</td>\n",
              "      <td>Neutered Male</td>\n",
              "      <td>1</td>\n",
              "      <td>5475</td>\n",
              "      <td>15.0</td>\n",
              "      <td>(12.5, 15.0]</td>\n",
              "      <td>2014-09-15 11:28:00</td>\n",
              "      <td>9</td>\n",
              "      <td>2014</td>\n",
              "      <td>2014-09</td>\n",
              "      <td>Monday</td>\n",
              "      <td>11</td>\n",
              "      <td>1.0</td>\n",
              "      <td>0 days 05:07:00.000000000</td>\n",
              "      <td>0.213194</td>\n",
              "      <td>15 years</td>\n",
              "      <td>1999-08-18 00:00:00</td>\n",
              "      <td>Neutered Male</td>\n",
              "      <td>5475</td>\n",
              "      <td>15.0</td>\n",
              "      <td>(12.5, 15.0]</td>\n",
              "      <td>NaN</td>\n",
              "      <td>9</td>\n",
              "      <td>2014</td>\n",
              "      <td>2014-09</td>\n",
              "      <td>Monday</td>\n",
              "      <td>16</td>\n",
              "      <td>1.0</td>\n",
              "      <td>Return to Owner</td>\n",
              "    </tr>\n",
              "    <tr>\n",
              "      <th>8</th>\n",
              "      <td>A178569</td>\n",
              "      <td>1999</td>\n",
              "      <td>3</td>\n",
              "      <td>15 years</td>\n",
              "      <td>Dog</td>\n",
              "      <td>Shetland Sheepdog Mix</td>\n",
              "      <td>White/Black</td>\n",
              "      <td>Normal</td>\n",
              "      <td>Public Assist</td>\n",
              "      <td>Neutered Male</td>\n",
              "      <td>1</td>\n",
              "      <td>5475</td>\n",
              "      <td>15.0</td>\n",
              "      <td>(12.5, 15.0]</td>\n",
              "      <td>2014-03-17 09:45:00</td>\n",
              "      <td>3</td>\n",
              "      <td>2014</td>\n",
              "      <td>2014-03</td>\n",
              "      <td>Monday</td>\n",
              "      <td>9</td>\n",
              "      <td>1.0</td>\n",
              "      <td>6 days 06:12:00.000000000</td>\n",
              "      <td>6.258333</td>\n",
              "      <td>15 years</td>\n",
              "      <td>1999-03-17 00:00:00</td>\n",
              "      <td>Neutered Male</td>\n",
              "      <td>5475</td>\n",
              "      <td>15.0</td>\n",
              "      <td>(12.5, 15.0]</td>\n",
              "      <td>NaN</td>\n",
              "      <td>3</td>\n",
              "      <td>2014</td>\n",
              "      <td>2014-03</td>\n",
              "      <td>Sunday</td>\n",
              "      <td>15</td>\n",
              "      <td>1.0</td>\n",
              "      <td>Return to Owner</td>\n",
              "    </tr>\n",
              "    <tr>\n",
              "      <th>9</th>\n",
              "      <td>A189592</td>\n",
              "      <td>1997</td>\n",
              "      <td>8</td>\n",
              "      <td>18 years</td>\n",
              "      <td>Dog</td>\n",
              "      <td>Shetland Sheepdog Mix</td>\n",
              "      <td>Brown/White</td>\n",
              "      <td>Normal</td>\n",
              "      <td>Stray</td>\n",
              "      <td>Spayed Female</td>\n",
              "      <td>1</td>\n",
              "      <td>6570</td>\n",
              "      <td>18.0</td>\n",
              "      <td>(17.5, 20.0]</td>\n",
              "      <td>2015-09-18 17:46:00</td>\n",
              "      <td>9</td>\n",
              "      <td>2015</td>\n",
              "      <td>2015-09</td>\n",
              "      <td>Friday</td>\n",
              "      <td>17</td>\n",
              "      <td>1.0</td>\n",
              "      <td>0 days 01:18:00.000000000</td>\n",
              "      <td>0.054167</td>\n",
              "      <td>18 years</td>\n",
              "      <td>1997-08-01 00:00:00</td>\n",
              "      <td>Spayed Female</td>\n",
              "      <td>6570</td>\n",
              "      <td>18.0</td>\n",
              "      <td>(17.5, 20.0]</td>\n",
              "      <td>NaN</td>\n",
              "      <td>9</td>\n",
              "      <td>2015</td>\n",
              "      <td>2015-09</td>\n",
              "      <td>Friday</td>\n",
              "      <td>19</td>\n",
              "      <td>1.0</td>\n",
              "      <td>Return to Owner</td>\n",
              "    </tr>\n",
              "  </tbody>\n",
              "</table>\n",
              "</div>"
            ],
            "text/plain": [
              "  animal_id_outcome  dob_year  dob_month age_upon_intake animal_type  \\\n",
              "0           A006100      2007          7        10 years         Dog   \n",
              "1           A006100      2007          7         7 years         Dog   \n",
              "2           A006100      2007          7         6 years         Dog   \n",
              "3           A047759      2004          4        10 years         Dog   \n",
              "4           A134067      1997         10        16 years         Dog   \n",
              "5           A141142      1998          6        15 years         Dog   \n",
              "6           A163459      1999         10        15 years         Dog   \n",
              "7           A165752      1999          8        15 years         Dog   \n",
              "8           A178569      1999          3        15 years         Dog   \n",
              "9           A189592      1997          8        18 years         Dog   \n",
              "\n",
              "                         breed         color intake_condition  \\\n",
              "0         Spinone Italiano Mix  Yellow/White           Normal   \n",
              "1         Spinone Italiano Mix  Yellow/White           Normal   \n",
              "2         Spinone Italiano Mix  Yellow/White           Normal   \n",
              "3                    Dachshund      Tricolor           Normal   \n",
              "4            Shetland Sheepdog   Brown/White          Injured   \n",
              "5  Labrador Retriever/Pit Bull   Black/White             Aged   \n",
              "6      Miniature Schnauzer Mix    Black/Gray           Normal   \n",
              "7               Lhasa Apso Mix   Brown/White           Normal   \n",
              "8        Shetland Sheepdog Mix   White/Black           Normal   \n",
              "9        Shetland Sheepdog Mix   Brown/White           Normal   \n",
              "\n",
              "       intake_type sex_upon_intake  count  age_upon_intake_(days)  \\\n",
              "0            Stray   Neutered Male      1                    3650   \n",
              "1    Public Assist   Neutered Male      1                    2555   \n",
              "2    Public Assist   Neutered Male      1                    2190   \n",
              "3  Owner Surrender   Neutered Male      1                    3650   \n",
              "4    Public Assist   Neutered Male      1                    5840   \n",
              "5            Stray   Spayed Female      1                    5475   \n",
              "6            Stray   Intact Female      1                    5475   \n",
              "7            Stray   Neutered Male      1                    5475   \n",
              "8    Public Assist   Neutered Male      1                    5475   \n",
              "9            Stray   Spayed Female      1                    6570   \n",
              "\n",
              "   age_upon_intake_(years) age_upon_intake_age_group      intake_datetime  \\\n",
              "0                     10.0               (7.5, 10.0]  2017-12-07 00:00:00   \n",
              "1                      7.0                (5.0, 7.5]  2014-12-19 10:21:00   \n",
              "2                      6.0                (5.0, 7.5]  2014-03-07 14:26:00   \n",
              "3                     10.0               (7.5, 10.0]  2014-04-02 15:55:00   \n",
              "4                     16.0              (15.0, 17.5]  2013-11-16 09:02:00   \n",
              "5                     15.0              (12.5, 15.0]  2013-11-16 14:46:00   \n",
              "6                     15.0              (12.5, 15.0]  2014-11-14 15:11:00   \n",
              "7                     15.0              (12.5, 15.0]  2014-09-15 11:28:00   \n",
              "8                     15.0              (12.5, 15.0]  2014-03-17 09:45:00   \n",
              "9                     18.0              (17.5, 20.0]  2015-09-18 17:46:00   \n",
              "\n",
              "   intake_month  intake_year intake_monthyear intake_weekday  intake_hour  \\\n",
              "0            12         2017          2017-12       Thursday           14   \n",
              "1            12         2014          2014-12         Friday           10   \n",
              "2             3         2014          2014-03         Friday           14   \n",
              "3             4         2014          2014-04      Wednesday           15   \n",
              "4            11         2013          2013-11       Saturday            9   \n",
              "5            11         2013          2013-11       Saturday           14   \n",
              "6            11         2014          2014-11         Friday           15   \n",
              "7             9         2014          2014-09         Monday           11   \n",
              "8             3         2014          2014-03         Monday            9   \n",
              "9             9         2015          2015-09         Friday           17   \n",
              "\n",
              "   intake_number            time_in_shelter  time_in_shelter_days  \\\n",
              "0            1.0  0 days 14:07:00.000000000              0.588194   \n",
              "1            2.0  1 days 06:14:00.000000000              1.259722   \n",
              "2            3.0  1 days 02:44:00.000000000              1.113889   \n",
              "3            1.0  4 days 23:17:00.000000000              4.970139   \n",
              "4            1.0  0 days 02:52:00.000000000              0.119444   \n",
              "5            1.0  0 days 20:54:00.000000000              0.870833   \n",
              "6            1.0  0 days 04:17:00.000000000              0.178472   \n",
              "7            1.0  0 days 05:07:00.000000000              0.213194   \n",
              "8            1.0  6 days 06:12:00.000000000              6.258333   \n",
              "9            1.0  0 days 01:18:00.000000000              0.054167   \n",
              "\n",
              "  age_upon_outcome        date_of_birth sex_upon_outcome  \\\n",
              "0         10 years  2007-07-09 00:00:00    Neutered Male   \n",
              "1          7 years  2007-07-09 00:00:00    Neutered Male   \n",
              "2          6 years  2007-07-09 00:00:00    Neutered Male   \n",
              "3         10 years  2004-04-02 00:00:00    Neutered Male   \n",
              "4         16 years  1997-10-16 00:00:00    Neutered Male   \n",
              "5         15 years  1998-06-01 00:00:00    Spayed Female   \n",
              "6         15 years  1999-10-19 00:00:00    Intact Female   \n",
              "7         15 years  1999-08-18 00:00:00    Neutered Male   \n",
              "8         15 years  1999-03-17 00:00:00    Neutered Male   \n",
              "9         18 years  1997-08-01 00:00:00    Spayed Female   \n",
              "\n",
              "   age_upon_outcome_(days)  age_upon_outcome_(years)  \\\n",
              "0                     3650                      10.0   \n",
              "1                     2555                       7.0   \n",
              "2                     2190                       6.0   \n",
              "3                     3650                      10.0   \n",
              "4                     5840                      16.0   \n",
              "5                     5475                      15.0   \n",
              "6                     5475                      15.0   \n",
              "7                     5475                      15.0   \n",
              "8                     5475                      15.0   \n",
              "9                     6570                      18.0   \n",
              "\n",
              "  age_upon_outcome_age_group     outcome_datetime  outcome_month  \\\n",
              "0                (7.5, 10.0]  2017-12-07 14:07:00             12   \n",
              "1                 (5.0, 7.5]  2014-12-20 16:35:00             12   \n",
              "2                 (5.0, 7.5]                  NaN              3   \n",
              "3                (7.5, 10.0]  2014-04-07 15:12:00              4   \n",
              "4               (15.0, 17.5]  2013-11-16 11:54:00             11   \n",
              "5               (12.5, 15.0]  2013-11-17 11:40:00             11   \n",
              "6               (12.5, 15.0]  2014-11-14 19:28:00             11   \n",
              "7               (12.5, 15.0]                  NaN              9   \n",
              "8               (12.5, 15.0]                  NaN              3   \n",
              "9               (17.5, 20.0]                  NaN              9   \n",
              "\n",
              "   outcome_year outcome_monthyear outcome_weekday  outcome_hour  \\\n",
              "0          2017           2017-12        Thursday             0   \n",
              "1          2014           2014-12        Saturday            16   \n",
              "2          2014           2014-03        Saturday            17   \n",
              "3          2014           2014-04          Monday            15   \n",
              "4          2013           2013-11        Saturday            11   \n",
              "5          2013           2013-11          Sunday            11   \n",
              "6          2014           2014-11          Friday            19   \n",
              "7          2014           2014-09          Monday            16   \n",
              "8          2014           2014-03          Sunday            15   \n",
              "9          2015           2015-09          Friday            19   \n",
              "\n",
              "   outcome_number     outcome_type  \n",
              "0             1.0  Return to Owner  \n",
              "1             2.0  Return to Owner  \n",
              "2             3.0  Return to Owner  \n",
              "3             1.0          Missing  \n",
              "4             1.0  Return to Owner  \n",
              "5             1.0  Return to Owner  \n",
              "6             1.0  Return to Owner  \n",
              "7             1.0  Return to Owner  \n",
              "8             1.0  Return to Owner  \n",
              "9             1.0  Return to Owner  "
            ]
          },
          "metadata": {
            "tags": []
          },
          "execution_count": 3
        }
      ]
    },
    {
      "cell_type": "code",
      "metadata": {
        "scrolled": true,
        "id": "mlprLpdwBy_D",
        "colab_type": "code",
        "colab": {
          "base_uri": "https://localhost:8080/",
          "height": 51
        },
        "outputId": "812d25df-9bfa-4918-d32f-627ad7684aff"
      },
      "source": [
        "print(f'training data has {train.shape[0]} rows and {train.shape[1]} columns')\n",
        "print(f'test data has {test.shape[0]} rows and {test.shape[1]} columns')"
      ],
      "execution_count": 4,
      "outputs": [
        {
          "output_type": "stream",
          "text": [
            "training data has 47803 rows and 37 columns\n",
            "test data has 31869 rows and 36 columns\n"
          ],
          "name": "stdout"
        }
      ]
    },
    {
      "cell_type": "code",
      "metadata": {
        "scrolled": false,
        "id": "_230jFF_By_G",
        "colab_type": "code",
        "colab": {
          "base_uri": "https://localhost:8080/",
          "height": 119
        },
        "outputId": "96ddd089-eb1c-451c-caff-adf9496daa3c"
      },
      "source": [
        "train.isna().sum().sort_values(ascending=False)[:5]        #20% of the outcome_datetime feature is missing\n",
        "#(train.isna().mean()*100).sort_values(ascending=False)[:5]"
      ],
      "execution_count": 5,
      "outputs": [
        {
          "output_type": "execute_result",
          "data": {
            "text/plain": [
              "outcome_datetime    9619\n",
              "sex_upon_intake        1\n",
              "sex_upon_outcome       1\n",
              "outcome_type           0\n",
              "intake_type            0\n",
              "dtype: int64"
            ]
          },
          "metadata": {
            "tags": []
          },
          "execution_count": 5
        }
      ]
    },
    {
      "cell_type": "code",
      "metadata": {
        "scrolled": true,
        "id": "qBpHKjNWBy_J",
        "colab_type": "code",
        "colab": {
          "base_uri": "https://localhost:8080/",
          "height": 119
        },
        "outputId": "7ef9919b-4f1f-4db8-fa8b-7cab12b7ae4a"
      },
      "source": [
        "#luckily test data doesn't seem to have missing values\n",
        "test.isna().sum().sort_values(ascending=False)[:5]"
      ],
      "execution_count": 6,
      "outputs": [
        {
          "output_type": "execute_result",
          "data": {
            "text/plain": [
              "outcome_number               0\n",
              "outcome_hour                 0\n",
              "intake_month                 0\n",
              "intake_datetime              0\n",
              "age_upon_intake_age_group    0\n",
              "dtype: int64"
            ]
          },
          "metadata": {
            "tags": []
          },
          "execution_count": 6
        }
      ]
    },
    {
      "cell_type": "code",
      "metadata": {
        "id": "WoZgLuWTBy_N",
        "colab_type": "code",
        "colab": {
          "base_uri": "https://localhost:8080/",
          "height": 238
        },
        "outputId": "d6438a4e-6e52-4cea-84b8-02727375ba0f"
      },
      "source": [
        "train.columns"
      ],
      "execution_count": 7,
      "outputs": [
        {
          "output_type": "execute_result",
          "data": {
            "text/plain": [
              "Index(['animal_id_outcome', 'dob_year', 'dob_month', 'age_upon_intake',\n",
              "       'animal_type', 'breed', 'color', 'intake_condition', 'intake_type',\n",
              "       'sex_upon_intake', 'count', 'age_upon_intake_(days)',\n",
              "       'age_upon_intake_(years)', 'age_upon_intake_age_group',\n",
              "       'intake_datetime', 'intake_month', 'intake_year', 'intake_monthyear',\n",
              "       'intake_weekday', 'intake_hour', 'intake_number', 'time_in_shelter',\n",
              "       'time_in_shelter_days', 'age_upon_outcome', 'date_of_birth',\n",
              "       'sex_upon_outcome', 'age_upon_outcome_(days)',\n",
              "       'age_upon_outcome_(years)', 'age_upon_outcome_age_group',\n",
              "       'outcome_datetime', 'outcome_month', 'outcome_year',\n",
              "       'outcome_monthyear', 'outcome_weekday', 'outcome_hour',\n",
              "       'outcome_number', 'outcome_type'],\n",
              "      dtype='object')"
            ]
          },
          "metadata": {
            "tags": []
          },
          "execution_count": 7
        }
      ]
    },
    {
      "cell_type": "code",
      "metadata": {
        "scrolled": false,
        "id": "h_zwusgCBy_R",
        "colab_type": "code",
        "colab": {
          "base_uri": "https://localhost:8080/",
          "height": 731
        },
        "outputId": "0b1dd315-4a6a-41ad-c5ba-12ad4a95a139"
      },
      "source": [
        "train.info()"
      ],
      "execution_count": 8,
      "outputs": [
        {
          "output_type": "stream",
          "text": [
            "<class 'pandas.core.frame.DataFrame'>\n",
            "RangeIndex: 47803 entries, 0 to 47802\n",
            "Data columns (total 37 columns):\n",
            "animal_id_outcome             47803 non-null object\n",
            "dob_year                      47803 non-null int64\n",
            "dob_month                     47803 non-null int64\n",
            "age_upon_intake               47803 non-null object\n",
            "animal_type                   47803 non-null object\n",
            "breed                         47803 non-null object\n",
            "color                         47803 non-null object\n",
            "intake_condition              47803 non-null object\n",
            "intake_type                   47803 non-null object\n",
            "sex_upon_intake               47802 non-null object\n",
            "count                         47803 non-null int64\n",
            "age_upon_intake_(days)        47803 non-null int64\n",
            "age_upon_intake_(years)       47803 non-null float64\n",
            "age_upon_intake_age_group     47803 non-null object\n",
            "intake_datetime               47803 non-null object\n",
            "intake_month                  47803 non-null int64\n",
            "intake_year                   47803 non-null int64\n",
            "intake_monthyear              47803 non-null object\n",
            "intake_weekday                47803 non-null object\n",
            "intake_hour                   47803 non-null int64\n",
            "intake_number                 47803 non-null float64\n",
            "time_in_shelter               47803 non-null object\n",
            "time_in_shelter_days          47803 non-null float64\n",
            "age_upon_outcome              47803 non-null object\n",
            "date_of_birth                 47803 non-null object\n",
            "sex_upon_outcome              47802 non-null object\n",
            "age_upon_outcome_(days)       47803 non-null int64\n",
            "age_upon_outcome_(years)      47803 non-null float64\n",
            "age_upon_outcome_age_group    47803 non-null object\n",
            "outcome_datetime              38184 non-null object\n",
            "outcome_month                 47803 non-null int64\n",
            "outcome_year                  47803 non-null int64\n",
            "outcome_monthyear             47803 non-null object\n",
            "outcome_weekday               47803 non-null object\n",
            "outcome_hour                  47803 non-null int64\n",
            "outcome_number                47803 non-null float64\n",
            "outcome_type                  47803 non-null object\n",
            "dtypes: float64(5), int64(11), object(21)\n",
            "memory usage: 13.5+ MB\n"
          ],
          "name": "stdout"
        }
      ]
    },
    {
      "cell_type": "code",
      "metadata": {
        "scrolled": false,
        "id": "LZfJdhFoBy_U",
        "colab_type": "code",
        "colab": {
          "base_uri": "https://localhost:8080/",
          "height": 317
        },
        "outputId": "6f22206b-0c60-4d95-dca4-15a139f457d0"
      },
      "source": [
        "train.describe()"
      ],
      "execution_count": 9,
      "outputs": [
        {
          "output_type": "execute_result",
          "data": {
            "text/html": [
              "<div>\n",
              "<style scoped>\n",
              "    .dataframe tbody tr th:only-of-type {\n",
              "        vertical-align: middle;\n",
              "    }\n",
              "\n",
              "    .dataframe tbody tr th {\n",
              "        vertical-align: top;\n",
              "    }\n",
              "\n",
              "    .dataframe thead th {\n",
              "        text-align: right;\n",
              "    }\n",
              "</style>\n",
              "<table border=\"1\" class=\"dataframe\">\n",
              "  <thead>\n",
              "    <tr style=\"text-align: right;\">\n",
              "      <th></th>\n",
              "      <th>dob_year</th>\n",
              "      <th>dob_month</th>\n",
              "      <th>count</th>\n",
              "      <th>age_upon_intake_(days)</th>\n",
              "      <th>age_upon_intake_(years)</th>\n",
              "      <th>intake_month</th>\n",
              "      <th>intake_year</th>\n",
              "      <th>intake_hour</th>\n",
              "      <th>intake_number</th>\n",
              "      <th>time_in_shelter_days</th>\n",
              "      <th>age_upon_outcome_(days)</th>\n",
              "      <th>age_upon_outcome_(years)</th>\n",
              "      <th>outcome_month</th>\n",
              "      <th>outcome_year</th>\n",
              "      <th>outcome_hour</th>\n",
              "      <th>outcome_number</th>\n",
              "    </tr>\n",
              "  </thead>\n",
              "  <tbody>\n",
              "    <tr>\n",
              "      <th>count</th>\n",
              "      <td>47803.000000</td>\n",
              "      <td>47803.000000</td>\n",
              "      <td>47803.0</td>\n",
              "      <td>47803.000000</td>\n",
              "      <td>47803.000000</td>\n",
              "      <td>47803.000000</td>\n",
              "      <td>47803.000000</td>\n",
              "      <td>47803.000000</td>\n",
              "      <td>47803.000000</td>\n",
              "      <td>47803.000000</td>\n",
              "      <td>47803.000000</td>\n",
              "      <td>47803.000000</td>\n",
              "      <td>47803.000000</td>\n",
              "      <td>47803.000000</td>\n",
              "      <td>47803.000000</td>\n",
              "      <td>47803.000000</td>\n",
              "    </tr>\n",
              "    <tr>\n",
              "      <th>mean</th>\n",
              "      <td>2012.197728</td>\n",
              "      <td>6.337531</td>\n",
              "      <td>1.0</td>\n",
              "      <td>841.679915</td>\n",
              "      <td>2.305972</td>\n",
              "      <td>6.596113</td>\n",
              "      <td>2014.600046</td>\n",
              "      <td>13.549087</td>\n",
              "      <td>1.144552</td>\n",
              "      <td>17.143366</td>\n",
              "      <td>855.319729</td>\n",
              "      <td>2.343342</td>\n",
              "      <td>6.650587</td>\n",
              "      <td>2014.638893</td>\n",
              "      <td>14.381545</td>\n",
              "      <td>1.144552</td>\n",
              "    </tr>\n",
              "    <tr>\n",
              "      <th>std</th>\n",
              "      <td>3.068255</td>\n",
              "      <td>3.342038</td>\n",
              "      <td>0.0</td>\n",
              "      <td>1100.557953</td>\n",
              "      <td>3.015227</td>\n",
              "      <td>3.460172</td>\n",
              "      <td>0.905731</td>\n",
              "      <td>3.179397</td>\n",
              "      <td>0.500055</td>\n",
              "      <td>46.600727</td>\n",
              "      <td>1103.598596</td>\n",
              "      <td>3.023558</td>\n",
              "      <td>3.490263</td>\n",
              "      <td>0.912706</td>\n",
              "      <td>3.456145</td>\n",
              "      <td>0.500055</td>\n",
              "    </tr>\n",
              "    <tr>\n",
              "      <th>min</th>\n",
              "      <td>1992.000000</td>\n",
              "      <td>1.000000</td>\n",
              "      <td>1.0</td>\n",
              "      <td>0.000000</td>\n",
              "      <td>0.000000</td>\n",
              "      <td>1.000000</td>\n",
              "      <td>2013.000000</td>\n",
              "      <td>0.000000</td>\n",
              "      <td>1.000000</td>\n",
              "      <td>0.000694</td>\n",
              "      <td>0.000000</td>\n",
              "      <td>0.000000</td>\n",
              "      <td>1.000000</td>\n",
              "      <td>2013.000000</td>\n",
              "      <td>0.000000</td>\n",
              "      <td>1.000000</td>\n",
              "    </tr>\n",
              "    <tr>\n",
              "      <th>25%</th>\n",
              "      <td>2011.000000</td>\n",
              "      <td>4.000000</td>\n",
              "      <td>1.0</td>\n",
              "      <td>60.000000</td>\n",
              "      <td>0.164384</td>\n",
              "      <td>4.000000</td>\n",
              "      <td>2014.000000</td>\n",
              "      <td>11.000000</td>\n",
              "      <td>1.000000</td>\n",
              "      <td>1.049653</td>\n",
              "      <td>90.000000</td>\n",
              "      <td>0.246575</td>\n",
              "      <td>4.000000</td>\n",
              "      <td>2014.000000</td>\n",
              "      <td>12.000000</td>\n",
              "      <td>1.000000</td>\n",
              "    </tr>\n",
              "    <tr>\n",
              "      <th>50%</th>\n",
              "      <td>2013.000000</td>\n",
              "      <td>6.000000</td>\n",
              "      <td>1.0</td>\n",
              "      <td>365.000000</td>\n",
              "      <td>1.000000</td>\n",
              "      <td>7.000000</td>\n",
              "      <td>2015.000000</td>\n",
              "      <td>13.000000</td>\n",
              "      <td>1.000000</td>\n",
              "      <td>4.972222</td>\n",
              "      <td>365.000000</td>\n",
              "      <td>1.000000</td>\n",
              "      <td>7.000000</td>\n",
              "      <td>2015.000000</td>\n",
              "      <td>15.000000</td>\n",
              "      <td>1.000000</td>\n",
              "    </tr>\n",
              "    <tr>\n",
              "      <th>75%</th>\n",
              "      <td>2014.000000</td>\n",
              "      <td>9.000000</td>\n",
              "      <td>1.0</td>\n",
              "      <td>1095.000000</td>\n",
              "      <td>3.000000</td>\n",
              "      <td>10.000000</td>\n",
              "      <td>2015.000000</td>\n",
              "      <td>16.000000</td>\n",
              "      <td>1.000000</td>\n",
              "      <td>13.113889</td>\n",
              "      <td>1095.000000</td>\n",
              "      <td>3.000000</td>\n",
              "      <td>10.000000</td>\n",
              "      <td>2015.000000</td>\n",
              "      <td>17.000000</td>\n",
              "      <td>1.000000</td>\n",
              "    </tr>\n",
              "    <tr>\n",
              "      <th>max</th>\n",
              "      <td>2016.000000</td>\n",
              "      <td>12.000000</td>\n",
              "      <td>1.0</td>\n",
              "      <td>8030.000000</td>\n",
              "      <td>22.000000</td>\n",
              "      <td>12.000000</td>\n",
              "      <td>2018.000000</td>\n",
              "      <td>23.000000</td>\n",
              "      <td>13.000000</td>\n",
              "      <td>1606.194444</td>\n",
              "      <td>8030.000000</td>\n",
              "      <td>22.000000</td>\n",
              "      <td>12.000000</td>\n",
              "      <td>2018.000000</td>\n",
              "      <td>23.000000</td>\n",
              "      <td>13.000000</td>\n",
              "    </tr>\n",
              "  </tbody>\n",
              "</table>\n",
              "</div>"
            ],
            "text/plain": [
              "           dob_year     dob_month    count  age_upon_intake_(days)  \\\n",
              "count  47803.000000  47803.000000  47803.0            47803.000000   \n",
              "mean    2012.197728      6.337531      1.0              841.679915   \n",
              "std        3.068255      3.342038      0.0             1100.557953   \n",
              "min     1992.000000      1.000000      1.0                0.000000   \n",
              "25%     2011.000000      4.000000      1.0               60.000000   \n",
              "50%     2013.000000      6.000000      1.0              365.000000   \n",
              "75%     2014.000000      9.000000      1.0             1095.000000   \n",
              "max     2016.000000     12.000000      1.0             8030.000000   \n",
              "\n",
              "       age_upon_intake_(years)  intake_month   intake_year   intake_hour  \\\n",
              "count             47803.000000  47803.000000  47803.000000  47803.000000   \n",
              "mean                  2.305972      6.596113   2014.600046     13.549087   \n",
              "std                   3.015227      3.460172      0.905731      3.179397   \n",
              "min                   0.000000      1.000000   2013.000000      0.000000   \n",
              "25%                   0.164384      4.000000   2014.000000     11.000000   \n",
              "50%                   1.000000      7.000000   2015.000000     13.000000   \n",
              "75%                   3.000000     10.000000   2015.000000     16.000000   \n",
              "max                  22.000000     12.000000   2018.000000     23.000000   \n",
              "\n",
              "       intake_number  time_in_shelter_days  age_upon_outcome_(days)  \\\n",
              "count   47803.000000          47803.000000             47803.000000   \n",
              "mean        1.144552             17.143366               855.319729   \n",
              "std         0.500055             46.600727              1103.598596   \n",
              "min         1.000000              0.000694                 0.000000   \n",
              "25%         1.000000              1.049653                90.000000   \n",
              "50%         1.000000              4.972222               365.000000   \n",
              "75%         1.000000             13.113889              1095.000000   \n",
              "max        13.000000           1606.194444              8030.000000   \n",
              "\n",
              "       age_upon_outcome_(years)  outcome_month  outcome_year  outcome_hour  \\\n",
              "count              47803.000000   47803.000000  47803.000000  47803.000000   \n",
              "mean                   2.343342       6.650587   2014.638893     14.381545   \n",
              "std                    3.023558       3.490263      0.912706      3.456145   \n",
              "min                    0.000000       1.000000   2013.000000      0.000000   \n",
              "25%                    0.246575       4.000000   2014.000000     12.000000   \n",
              "50%                    1.000000       7.000000   2015.000000     15.000000   \n",
              "75%                    3.000000      10.000000   2015.000000     17.000000   \n",
              "max                   22.000000      12.000000   2018.000000     23.000000   \n",
              "\n",
              "       outcome_number  \n",
              "count    47803.000000  \n",
              "mean         1.144552  \n",
              "std          0.500055  \n",
              "min          1.000000  \n",
              "25%          1.000000  \n",
              "50%          1.000000  \n",
              "75%          1.000000  \n",
              "max         13.000000  "
            ]
          },
          "metadata": {
            "tags": []
          },
          "execution_count": 9
        }
      ]
    },
    {
      "cell_type": "code",
      "metadata": {
        "scrolled": false,
        "id": "5qfgow5hBy_X",
        "colab_type": "code",
        "colab": {},
        "outputId": "7035e396-2f2d-4da8-d8cf-c9833148ada4"
      },
      "source": [
        "plt.figure(figsize=(12,5))\n",
        "train['outcome_type'].value_counts().plot('bar')\n",
        "plt.title('Each outcome type count')\n",
        "plt.xticks(rotation=45)\n",
        "plt.xlabel('Outcome Types')\n",
        "plt.ylabel('Count')"
      ],
      "execution_count": 0,
      "outputs": [
        {
          "output_type": "execute_result",
          "data": {
            "text/plain": [
              "Text(0, 0.5, 'Count')"
            ]
          },
          "metadata": {
            "tags": []
          },
          "execution_count": 984
        },
        {
          "output_type": "display_data",
          "data": {
            "image/png": "[encoded data removed]",
            "text/plain": [
              "<Figure size 864x360 with 1 Axes>"
            ]
          },
          "metadata": {
            "tags": [],
            "needs_background": "light"
          }
        }
      ]
    },
    {
      "cell_type": "code",
      "metadata": {
        "id": "Wz_858i6By_d",
        "colab_type": "code",
        "colab": {},
        "outputId": "851ea48e-2120-44ae-91b1-36b62277ae9e"
      },
      "source": [
        "train['outcome_type'].value_counts()/len(train)*100"
      ],
      "execution_count": 0,
      "outputs": [
        {
          "output_type": "execute_result",
          "data": {
            "text/plain": [
              "Adoption           27.125913\n",
              "Transfer           21.640901\n",
              "Return to Owner    20.329268\n",
              "Euthanasia          8.668912\n",
              "Died                5.918039\n",
              "Missing             5.436897\n",
              "Relocate            5.382507\n",
              "Rto-Adopt           5.125201\n",
              "Disposal            0.372362\n",
              "Name: outcome_type, dtype: float64"
            ]
          },
          "metadata": {
            "tags": []
          },
          "execution_count": 985
        }
      ]
    },
    {
      "cell_type": "markdown",
      "metadata": {
        "id": "ifzBgT2WBy_g",
        "colab_type": "text"
      },
      "source": [
        "<h3>Observations:</h3>\n",
        "            \n",
        "        * count column has only one value : 1\n",
        "        * does intake_number and outcome_number columns hold same value? If yes, any one of the columns can be dropped\n",
        "          to avoid multicolinearity      \n",
        "        * age_upon_intake can be coverted to int dtype\n",
        "        * we have only 4 unique animal_types\n",
        "        * intake_hour, intake_month, intake_year, intake_monthyear, intake_weekday columns have been created from\n",
        "          intake_datetime column and this column can be used to create additional features. intake_monthyear column can be\n",
        "          dropped to avoid multicolinearity.\n",
        "        * time_in_shelter and time_in_shelter_days columns present the same value in different units.\n",
        "        * age_upon_intake, age_upon_intake_(years) has almost same values and is true for outcome columns as well.\n",
        "        * age_group bin can be modified with a class that represents this age group\n",
        "        * outcome_datetime value has 20% missing value and can be dropped as we already have calculated outcome_month,\n",
        "          outcome_year, outcome_monthyear, outcome_weekday, outcome_hour columns calculated from the this column. \n",
        "        * outcome types are highly imbalanced, we may upsampling, downsampling or SMOTE technique and need to choose \n",
        "          training, validation set carefully\n"
      ]
    },
    {
      "cell_type": "markdown",
      "metadata": {
        "id": "29EzrjxeBy_g",
        "colab_type": "text"
      },
      "source": [
        "<h3>Data Cleaning</h3>"
      ]
    },
    {
      "cell_type": "code",
      "metadata": {
        "id": "w7Er9jX-By_h",
        "colab_type": "code",
        "colab": {},
        "outputId": "11d958b5-5133-454b-e602-386b09f5fd1f"
      },
      "source": [
        "train.outcome_number.equals(train.intake_number)"
      ],
      "execution_count": 0,
      "outputs": [
        {
          "output_type": "execute_result",
          "data": {
            "text/plain": [
              "True"
            ]
          },
          "metadata": {
            "tags": []
          },
          "execution_count": 986
        }
      ]
    },
    {
      "cell_type": "markdown",
      "metadata": {
        "id": "HQZIKb83By_k",
        "colab_type": "text"
      },
      "source": [
        "* does intake_number and outcome_number columns hold same value?\n",
        "        Yes! Let's drop outcome_number colum for now"
      ]
    },
    {
      "cell_type": "code",
      "metadata": {
        "id": "dJ2pqEW-By_l",
        "colab_type": "code",
        "colab": {},
        "outputId": "55eafe25-4a02-477f-d13f-4306919f08d1"
      },
      "source": [
        "train.columns"
      ],
      "execution_count": 0,
      "outputs": [
        {
          "output_type": "execute_result",
          "data": {
            "text/plain": [
              "Index(['animal_id_outcome', 'dob_year', 'dob_month', 'age_upon_intake',\n",
              "       'animal_type', 'breed', 'color', 'intake_condition', 'intake_type',\n",
              "       'sex_upon_intake', 'count', 'age_upon_intake_(days)',\n",
              "       'age_upon_intake_(years)', 'age_upon_intake_age_group',\n",
              "       'intake_datetime', 'intake_month', 'intake_year', 'intake_monthyear',\n",
              "       'intake_weekday', 'intake_hour', 'intake_number', 'time_in_shelter',\n",
              "       'time_in_shelter_days', 'age_upon_outcome', 'date_of_birth',\n",
              "       'sex_upon_outcome', 'age_upon_outcome_(days)',\n",
              "       'age_upon_outcome_(years)', 'age_upon_outcome_age_group',\n",
              "       'outcome_datetime', 'outcome_month', 'outcome_year',\n",
              "       'outcome_monthyear', 'outcome_weekday', 'outcome_hour',\n",
              "       'outcome_number', 'outcome_type'],\n",
              "      dtype='object')"
            ]
          },
          "metadata": {
            "tags": []
          },
          "execution_count": 987
        }
      ]
    },
    {
      "cell_type": "code",
      "metadata": {
        "scrolled": false,
        "id": "k6L_fVbFBy_o",
        "colab_type": "code",
        "colab": {},
        "outputId": "de11dbfe-f168-47cd-e93a-a6fa70b6309e"
      },
      "source": [
        "incorrectly_labelled = list(train.loc[(train['outcome_number']>=2) & (train['outcome_type']=='Died')].groupby('animal_id_outcome').size().sort_values(ascending=False).index)\n",
        "len(incorrectly_labelled)"
      ],
      "execution_count": 0,
      "outputs": [
        {
          "output_type": "execute_result",
          "data": {
            "text/plain": [
              "214"
            ]
          },
          "metadata": {
            "tags": []
          },
          "execution_count": 988
        }
      ]
    },
    {
      "cell_type": "markdown",
      "metadata": {
        "id": "SNxPR-9NBy_t",
        "colab_type": "text"
      },
      "source": [
        "<h3>The outcome_number and target label seem to have discrepancy</h3>\n",
        "\n",
        "        * For the animal_id :A705625, It was brought to org first time on 2015-07 as an Intact Male and has \n",
        "          and has outcome_type:Died. The same animal has come in again as neutered male on  2016-04. Had this \n",
        "          animal died on its first visit it couldn't have come the next time.\n",
        "        * This case is true for all the died animals that has outcome_number>=2. The outcome label has 'Died' on \n",
        "          their first visit yet there have been another occurence.\n",
        "        * Need to check the lables of other animals that came in multiple times\n"
      ]
    },
    {
      "cell_type": "code",
      "metadata": {
        "scrolled": false,
        "id": "n65AD5yDBy_u",
        "colab_type": "code",
        "colab": {},
        "outputId": "74bc6843-f078-46e6-9ebd-b3ed65697a8f"
      },
      "source": [
        "plt.figure(figsize=(15,10))\n",
        "\n",
        "plt.subplot(321)\n",
        "train[(train['sex_upon_intake']== 'Intact Female') & (train['sex_upon_outcome']== 'Spayed Female')]['outcome_type'].value_counts().plot('bar')\n",
        "plt.title('Female came in for castration')\n",
        "plt.xticks(rotation=45)\n",
        "\n",
        "plt.subplot(322)\n",
        "train[(train['sex_upon_intake'] == 'Intact Male') & (train['sex_upon_outcome'] == 'Neutered Male')]['outcome_type'].value_counts().plot('bar')\n",
        "plt.title('Male came in for castration')\n",
        "plt.xticks(rotation=45)\n",
        "\n",
        "plt.subplot(323)\n",
        "train[(train['sex_upon_intake'] == 'Spayed Female') & (train['sex_upon_outcome'] == 'Spayed Female')]['outcome_type'].value_counts().plot('bar')\n",
        "plt.title('Castrated Female')\n",
        "plt.xticks(rotation=45)\n",
        "\n",
        "plt.subplot(324)\n",
        "train[(train['sex_upon_intake'] == 'Neutered Male') & (train['sex_upon_outcome'] == 'Neutered Male')]['outcome_type'].value_counts().plot('bar')\n",
        "plt.title('Castrated Male')\n",
        "plt.xticks(rotation=45)\n",
        "\n",
        "plt.subplot(313)\n",
        "train[(train['sex_upon_outcome'] == 'Spayed Female') | (train['sex_upon_outcome'] == 'Neutered Male')]['outcome_type'].value_counts().plot('bar')\n",
        "plt.title('Overall Distribution')\n",
        "plt.xticks(rotation=45)\n",
        "\n",
        "plt.tight_layout()"
      ],
      "execution_count": 0,
      "outputs": [
        {
          "output_type": "display_data",
          "data": {
            "image/png": "[encoded data removed]",
            "text/plain": [
              "<Figure size 1080x720 with 5 Axes>"
            ]
          },
          "metadata": {
            "tags": [],
            "needs_background": "light"
          }
        }
      ]
    },
    {
      "cell_type": "markdown",
      "metadata": {
        "id": "UaEXwolIBy_y",
        "colab_type": "text"
      },
      "source": [
        "**NOTE:** Spayed females and Neutered Males that came into the organization for castration are more likely to get adopeted. A new feature can be created around this."
      ]
    },
    {
      "cell_type": "code",
      "metadata": {
        "id": "gHSK_bqbBy_z",
        "colab_type": "code",
        "colab": {},
        "outputId": "dac94ddd-c0c6-4ffd-d09b-2c04b1e1a43a"
      },
      "source": [
        "train.animal_type.unique()"
      ],
      "execution_count": 0,
      "outputs": [
        {
          "output_type": "execute_result",
          "data": {
            "text/plain": [
              "array(['Dog', 'Cat', 'Other', 'Bird'], dtype=object)"
            ]
          },
          "metadata": {
            "tags": []
          },
          "execution_count": 990
        }
      ]
    },
    {
      "cell_type": "code",
      "metadata": {
        "id": "9rjTbAa7By_3",
        "colab_type": "code",
        "colab": {},
        "outputId": "4cd14a58-5362-4105-dcac-3cdf0afb84d6"
      },
      "source": [
        "fig, axes = plt.subplots(2, 2, figsize=(20, 10))\n",
        "\n",
        "x = sns.countplot(x='outcome_type', data=train[train['animal_type']=='Dog'], ax=axes[0,0])\n",
        "x.set_xticklabels(x.get_xticklabels(), rotation=45)\n",
        "\n",
        "x = sns.countplot(x='outcome_type', data=train[train['animal_type']=='Cat'], ax=axes[0,1])\n",
        "x.set_xticklabels(x.get_xticklabels(), rotation=45)\n",
        "\n",
        "x = sns.countplot(x='outcome_type', data=train[train['animal_type']=='Bird'], ax=axes[1,0])\n",
        "x.set_xticklabels(x.get_xticklabels(), rotation=45)\n",
        "\n",
        "x = sns.countplot(x='outcome_type', data=train[train['animal_type']=='Other'], ax=axes[1,1])\n",
        "x.set_xticklabels(x.get_xticklabels(), rotation=45)\n",
        "\n",
        "axes[0][0].set_title(\"Dog\")\n",
        "axes[0][1].set_title(\"Cat\")\n",
        "axes[1][0].set_title(\"Bird\")\n",
        "axes[1][1].set_title(\"Other\")\n",
        "\n",
        "\n",
        "plt.tight_layout()"
      ],
      "execution_count": 0,
      "outputs": [
        {
          "output_type": "display_data",
          "data": {
            "image/png": "[encoded data removed]",
            "text/plain": [
              "<Figure size 1440x720 with 4 Axes>"
            ]
          },
          "metadata": {
            "tags": [],
            "needs_background": "light"
          }
        }
      ]
    },
    {
      "cell_type": "markdown",
      "metadata": {
        "id": "lJJj3E7iBy_6",
        "colab_type": "text"
      },
      "source": [
        "**NOTE**        \n",
        "        \n",
        "        1.Dogs are mostly adopted and returned to owner and some of them are transfered\n",
        "        2.Cats are mostly transfered\n",
        "        3.Unknown other animals are euthanized mostly"
      ]
    },
    {
      "cell_type": "code",
      "metadata": {
        "id": "ddp78VBRBy_6",
        "colab_type": "code",
        "colab": {},
        "outputId": "634acc35-9032-444d-fb76-d91c22b51557"
      },
      "source": [
        "fig, axes = plt.subplots(4, 2, figsize=(20, 30))\n",
        "\n",
        "x = sns.countplot(x='outcome_type', data=train[train['intake_condition']=='Aged'], ax=axes[0,0])\n",
        "x.set_xticklabels(x.get_xticklabels(), rotation=45)\n",
        "\n",
        "x = sns.countplot(x='outcome_type', data=train[train['intake_condition']=='Feral'], ax=axes[0,1])\n",
        "x.set_xticklabels(x.get_xticklabels(), rotation=45)\n",
        "\n",
        "x = sns.countplot(x='outcome_type', data=train[train['intake_condition']=='Injured'], ax=axes[1,0])\n",
        "x.set_xticklabels(x.get_xticklabels(), rotation=45)\n",
        "\n",
        "x = sns.countplot(x='outcome_type', data=train[train['intake_condition']=='Normal'], ax=axes[1,1])\n",
        "x.set_xticklabels(x.get_xticklabels(), rotation=45)\n",
        "\n",
        "x = sns.countplot(x='outcome_type', data=train[train['intake_condition']=='Nursing'], ax=axes[2,0])\n",
        "x.set_xticklabels(x.get_xticklabels(), rotation=45)\n",
        "\n",
        "x = sns.countplot(x='outcome_type', data=train[train['intake_condition']=='Other'], ax=axes[2,1])\n",
        "x.set_xticklabels(x.get_xticklabels(), rotation=45)\n",
        "\n",
        "x = sns.countplot(x='outcome_type', data=train[train['intake_condition']=='Pregnant'], ax=axes[3,0])\n",
        "x.set_xticklabels(x.get_xticklabels(), rotation=45)\n",
        "\n",
        "x = sns.countplot(x='outcome_type', data=train[train['intake_condition']=='Sick'], ax=axes[3,1])\n",
        "x.set_xticklabels(x.get_xticklabels(), rotation=45)\n",
        "\n",
        "axes[0][0].set_title(\"Aged\")\n",
        "axes[0][1].set_title(\"Feral\")\n",
        "axes[1][0].set_title(\"Injured\")\n",
        "axes[1][1].set_title(\"Normal\")\n",
        "axes[2][0].set_title(\"Nursing\")\n",
        "axes[2][1].set_title(\"Other\")\n",
        "axes[3][0].set_title(\"Pregnant\")\n",
        "axes[3][1].set_title(\"Sick\")\n",
        "\n",
        "\n",
        "plt.tight_layout()"
      ],
      "execution_count": 0,
      "outputs": [
        {
          "output_type": "display_data",
          "data": {
            "image/png": "[encoded data removed]",
            "text/plain": [
              "<Figure size 1440x2160 with 8 Axes>"
            ]
          },
          "metadata": {
            "tags": [],
            "needs_background": "light"
          }
        }
      ]
    },
    {
      "cell_type": "markdown",
      "metadata": {
        "id": "74vKKlTUBy_9",
        "colab_type": "text"
      },
      "source": [
        "**NOTE**\n",
        "\n",
        "    *Intake condition feature seem  to play important role in outcome_type determination.\n",
        "    *Aged animals are mostly returned to owners\n",
        "    *Injured, Sicked ones are euthanized\n",
        "    *Feral, Nursing types are often transfered"
      ]
    },
    {
      "cell_type": "markdown",
      "metadata": {
        "id": "SOuDxDKtBy_-",
        "colab_type": "text"
      },
      "source": [
        "<h3>Feature Engineering</h3>"
      ]
    },
    {
      "cell_type": "code",
      "metadata": {
        "id": "ls06xwNFBy__",
        "colab_type": "code",
        "colab": {
          "base_uri": "https://localhost:8080/",
          "height": 748
        },
        "outputId": "7275b9be-f727-4364-fd57-1df73db478ec"
      },
      "source": [
        "target = train['outcome_type']\n",
        "train.drop('outcome_type', inplace=True, axis='columns')\n",
        "df = pd.concat([train, test])\n",
        "df.reset_index(drop=True, inplace=True)\n",
        "print(train.shape, test.shape)\n",
        "print(df.shape)\n",
        "\n",
        "df.info()"
      ],
      "execution_count": 12,
      "outputs": [
        {
          "output_type": "stream",
          "text": [
            "(47803, 36) (31869, 36)\n",
            "(79672, 36)\n",
            "<class 'pandas.core.frame.DataFrame'>\n",
            "RangeIndex: 79672 entries, 0 to 79671\n",
            "Data columns (total 36 columns):\n",
            "animal_id_outcome             79672 non-null object\n",
            "dob_year                      79672 non-null int64\n",
            "dob_month                     79672 non-null int64\n",
            "age_upon_intake               79672 non-null object\n",
            "animal_type                   79672 non-null object\n",
            "breed                         79672 non-null object\n",
            "color                         79672 non-null object\n",
            "intake_condition              79672 non-null object\n",
            "intake_type                   79672 non-null object\n",
            "sex_upon_intake               79671 non-null object\n",
            "count                         79672 non-null int64\n",
            "age_upon_intake_(days)        79672 non-null int64\n",
            "age_upon_intake_(years)       79672 non-null float64\n",
            "age_upon_intake_age_group     79672 non-null object\n",
            "intake_datetime               79672 non-null object\n",
            "intake_month                  79672 non-null int64\n",
            "intake_year                   79672 non-null int64\n",
            "intake_monthyear              79672 non-null object\n",
            "intake_weekday                79672 non-null object\n",
            "intake_hour                   79672 non-null int64\n",
            "intake_number                 79672 non-null float64\n",
            "time_in_shelter               79672 non-null object\n",
            "time_in_shelter_days          79672 non-null float64\n",
            "age_upon_outcome              79672 non-null object\n",
            "date_of_birth                 79672 non-null object\n",
            "sex_upon_outcome              79671 non-null object\n",
            "age_upon_outcome_(days)       79672 non-null int64\n",
            "age_upon_outcome_(years)      79672 non-null float64\n",
            "age_upon_outcome_age_group    79672 non-null object\n",
            "outcome_datetime              70053 non-null object\n",
            "outcome_month                 79672 non-null int64\n",
            "outcome_year                  79672 non-null int64\n",
            "outcome_monthyear             79672 non-null object\n",
            "outcome_weekday               79672 non-null object\n",
            "outcome_hour                  79672 non-null int64\n",
            "outcome_number                79672 non-null float64\n",
            "dtypes: float64(5), int64(11), object(20)\n",
            "memory usage: 21.9+ MB\n"
          ],
          "name": "stdout"
        }
      ]
    },
    {
      "cell_type": "code",
      "metadata": {
        "id": "bJ1euHIkBzAC",
        "colab_type": "code",
        "colab": {}
      },
      "source": [
        "#Based on the analysis and intution dropping the below columns and will create few of them from scratch\n",
        "df.drop(labels = ['dob_year', 'dob_month', 'age_upon_intake', 'count', 'age_upon_intake_(years)', 'age_upon_intake_age_group', \n",
        "'intake_month', 'intake_year', 'intake_monthyear', 'intake_weekday', 'intake_hour', 'time_in_shelter', 'intake_number',\n",
        "'date_of_birth', 'age_upon_outcome_(days)','age_upon_outcome', 'age_upon_outcome_(years)', 'age_upon_outcome_age_group', 'outcome_datetime',\n",
        "'outcome_month', 'outcome_year', 'outcome_monthyear', 'outcome_weekday', 'outcome_hour', 'outcome_number'], axis=1, inplace=True)"
      ],
      "execution_count": 0,
      "outputs": []
    },
    {
      "cell_type": "markdown",
      "metadata": {
        "id": "FRL9eYXpBzAH",
        "colab_type": "text"
      },
      "source": [
        "*Quick google search says purebred dogs are expensive and Mixed breeds have a lower chance of being \n",
        "born with an inherited congenital disease. This may have an effect on the outcome_type.*\n",
        "          \n",
        "*Creating isMix feature from this colum*"
      ]
    },
    {
      "cell_type": "code",
      "metadata": {
        "id": "bdfTtpFiBzAI",
        "colab_type": "code",
        "colab": {}
      },
      "source": [
        "df['isMix'] = 0\n",
        "df.loc[(df.breed.str.lower().str.contains('mix')) | (df.breed.str.lower().str.contains('/')), 'isMix'] = 1"
      ],
      "execution_count": 0,
      "outputs": []
    },
    {
      "cell_type": "markdown",
      "metadata": {
        "id": "UzqHO20FBzAK",
        "colab_type": "text"
      },
      "source": [
        "*Creating a column to keep No.of colors of the animal has*"
      ]
    },
    {
      "cell_type": "code",
      "metadata": {
        "scrolled": false,
        "id": "vm5Xs7a6BzAL",
        "colab_type": "code",
        "colab": {}
      },
      "source": [
        "df['n_colors'] = df.color.str.split('/').apply(lambda x: len(x))\n",
        "\n",
        "df.loc[df.color.str.lower().str.contains('tricolor'),'n_colors'] = 3"
      ],
      "execution_count": 0,
      "outputs": []
    },
    {
      "cell_type": "markdown",
      "metadata": {
        "id": "SES7iEqXBzAN",
        "colab_type": "text"
      },
      "source": [
        "*Extracting as many info from intake_datetime column as required*"
      ]
    },
    {
      "cell_type": "code",
      "metadata": {
        "scrolled": true,
        "id": "wEh-jjCABzAO",
        "colab_type": "code",
        "colab": {}
      },
      "source": [
        "df['intake_datetime'] = pd.to_datetime(df['intake_datetime'])\n",
        "df['intake_year'] = df['intake_datetime'].dt.year\n",
        "df['intake_month'] = df['intake_datetime'].dt.month\n",
        "df['intake_day'] = df['intake_datetime'].dt.day\n",
        "df['intake_dayoftheyear'] = df['intake_datetime'].dt.dayofyear\n",
        "df['day_of_week'] = df['intake_datetime'].dt.dayofweek\n",
        "df['is_weekend'] = (df['intake_datetime'].dt.weekday>=5).astype(int)\n",
        "df['week'] = df['intake_datetime'].dt.week"
      ],
      "execution_count": 0,
      "outputs": []
    },
    {
      "cell_type": "markdown",
      "metadata": {
        "id": "iRZyhhDFBzAS",
        "colab_type": "text"
      },
      "source": [
        "*Creating Outcome_datetime feature based on intake_time and time spent in shelter*"
      ]
    },
    {
      "cell_type": "code",
      "metadata": {
        "scrolled": true,
        "id": "9O6KjChWBzAS",
        "colab_type": "code",
        "colab": {}
      },
      "source": [
        "import datetime\n",
        "df['outcome_datetime'] = df['intake_datetime'] + (df['time_in_shelter_days']*24).apply(lambda x: datetime.timedelta(hours=x))"
      ],
      "execution_count": 0,
      "outputs": []
    },
    {
      "cell_type": "code",
      "metadata": {
        "id": "2yK3u6WIBzAW",
        "colab_type": "code",
        "colab": {}
      },
      "source": [
        "df['outcome_year'] = df['outcome_datetime'].dt.year\n",
        "df['outcome_month'] = df['outcome_datetime'].dt.month\n",
        "df['outcome_day'] = df['outcome_datetime'].dt.day\n",
        "df['outcome_dayoftheyear'] = df['outcome_datetime'].dt.dayofyear\n",
        "df['outcome_day_of_week'] = df['outcome_datetime'].dt.dayofweek\n",
        "df['outcome_is_weekend'] = (df['outcome_datetime'].dt.weekday>=5).astype(int)\n",
        "df['outcome_week'] = df['outcome_datetime'].dt.week"
      ],
      "execution_count": 0,
      "outputs": []
    },
    {
      "cell_type": "code",
      "metadata": {
        "scrolled": false,
        "id": "7fXPkBN1BzAZ",
        "colab_type": "code",
        "colab": {
          "base_uri": "https://localhost:8080/",
          "height": 616
        },
        "outputId": "8f02d197-58fd-4390-8011-900c51fa4828"
      },
      "source": [
        "plt.figure(figsize=(15,7))\n",
        "(df.groupby(['intake_year','intake_month']).size()).plot('bar')\n",
        "plt.xticks(rotation=45)"
      ],
      "execution_count": 19,
      "outputs": [
        {
          "output_type": "stream",
          "text": [
            "/usr/local/lib/python3.6/dist-packages/ipykernel_launcher.py:2: FutureWarning: `Series.plot()` should not be called with positional arguments, only keyword arguments. The order of positional arguments will change in the future. Use `Series.plot(kind='bar')` instead of `Series.plot('bar',)`.\n",
            "  \n"
          ],
          "name": "stderr"
        },
        {
          "output_type": "execute_result",
          "data": {
            "text/plain": [
              "(array([ 0,  1,  2,  3,  4,  5,  6,  7,  8,  9, 10, 11, 12, 13, 14, 15, 16,\n",
              "        17, 18, 19, 20, 21, 22, 23, 24, 25, 26, 27, 28, 29, 30, 31, 32, 33,\n",
              "        34, 35, 36, 37, 38, 39, 40, 41, 42, 43, 44, 45, 46, 47, 48, 49, 50,\n",
              "        51, 52, 53, 54, 55, 56, 57, 58, 59, 60, 61, 62]),\n",
              " <a list of 63 Text xticklabel objects>)"
            ]
          },
          "metadata": {
            "tags": []
          },
          "execution_count": 19
        },
        {
          "output_type": "display_data",
          "data": {
            "image/png": "[encoded data removed]",
            "text/plain": [
              "<Figure size 1080x504 with 1 Axes>"
            ]
          },
          "metadata": {
            "tags": []
          }
        }
      ]
    },
    {
      "cell_type": "code",
      "metadata": {
        "id": "WgpV9bzwBzAb",
        "colab_type": "code",
        "colab": {
          "base_uri": "https://localhost:8080/",
          "height": 616
        },
        "outputId": "ad4e05a2-e46f-4e4a-a16c-83406d525fe0"
      },
      "source": [
        "plt.figure(figsize=(15,7))\n",
        "(df.groupby(['outcome_year','outcome_month']).size()).plot('bar')\n",
        "plt.xticks(rotation=45)"
      ],
      "execution_count": 20,
      "outputs": [
        {
          "output_type": "stream",
          "text": [
            "/usr/local/lib/python3.6/dist-packages/ipykernel_launcher.py:2: FutureWarning: `Series.plot()` should not be called with positional arguments, only keyword arguments. The order of positional arguments will change in the future. Use `Series.plot(kind='bar')` instead of `Series.plot('bar',)`.\n",
            "  \n"
          ],
          "name": "stderr"
        },
        {
          "output_type": "execute_result",
          "data": {
            "text/plain": [
              "(array([ 0,  1,  2,  3,  4,  5,  6,  7,  8,  9, 10, 11, 12, 13, 14, 15, 16,\n",
              "        17, 18, 19, 20, 21, 22, 23, 24, 25, 26, 27, 28, 29, 30, 31, 32, 33,\n",
              "        34, 35, 36, 37, 38, 39, 40, 41, 42, 43, 44, 45, 46, 47, 48, 49, 50,\n",
              "        51, 52, 53, 54, 55, 56, 57, 58, 59, 60, 61, 62, 63, 64]),\n",
              " <a list of 65 Text xticklabel objects>)"
            ]
          },
          "metadata": {
            "tags": []
          },
          "execution_count": 20
        },
        {
          "output_type": "display_data",
          "data": {
            "image/png": "[encoded data removed]",
            "text/plain": [
              "<Figure size 1080x504 with 1 Axes>"
            ]
          },
          "metadata": {
            "tags": []
          }
        }
      ]
    },
    {
      "cell_type": "markdown",
      "metadata": {
        "id": "4thHlYrNBzAh",
        "colab_type": "text"
      },
      "source": [
        "*There seem to be a spike in trend around April, May, June and No.of intake has plunged after Feb-2016 in training data*\n",
        "\n",
        "*For outcome, data spikes at May, June, July*"
      ]
    },
    {
      "cell_type": "code",
      "metadata": {
        "scrolled": true,
        "id": "SF2GMzAeBzAi",
        "colab_type": "code",
        "colab": {}
      },
      "source": [
        "#df[(df.breed=='Dachshund')&(df['outcome_type']=='Return to Owner')].groupby(['outcome_type','sex_upon_intake','sex_upon_outcome']).size()"
      ],
      "execution_count": 0,
      "outputs": []
    },
    {
      "cell_type": "code",
      "metadata": {
        "id": "s9IfExqmBzAn",
        "colab_type": "code",
        "colab": {}
      },
      "source": [
        "df.loc[df.animal_id_outcome=='A667395','sex_upon_intake'] = 'Spayed Female'\n",
        "df.loc[df.animal_id_outcome=='A667395','sex_upon_outcome'] = 'Spayed Female'"
      ],
      "execution_count": 0,
      "outputs": []
    },
    {
      "cell_type": "code",
      "metadata": {
        "id": "LCCBAImzBzAr",
        "colab_type": "code",
        "colab": {}
      },
      "source": [
        "df['age_upon_outcome_(days)'] = df['age_upon_intake_(days)'] + df['time_in_shelter_days']"
      ],
      "execution_count": 0,
      "outputs": []
    },
    {
      "cell_type": "code",
      "metadata": {
        "id": "nSeg35OBBzAt",
        "colab_type": "code",
        "colab": {}
      },
      "source": [
        "df['isCastrated'] = 0\n",
        "df.loc[(df['sex_upon_outcome'].str.lower().str.contains('neutered') | \n",
        "          df['sex_upon_outcome'].str.lower().str.contains('spayed')), 'isCastrated'] = 1\n",
        "df.loc[df['sex_upon_intake']=='Unknown', 'isCastrated'] = 2"
      ],
      "execution_count": 0,
      "outputs": []
    },
    {
      "cell_type": "markdown",
      "metadata": {
        "id": "WqPMSDrJBzAw",
        "colab_type": "text"
      },
      "source": [
        "*Per analysis castrated animals are more likely for adoption, hence this feature*"
      ]
    },
    {
      "cell_type": "code",
      "metadata": {
        "id": "licytvpPBzAx",
        "colab_type": "code",
        "colab": {}
      },
      "source": [
        "df['sex'] = 1\n",
        "df.loc[(df['sex_upon_outcome'].str.lower().str.contains('female')), 'sex'] = 0\n",
        "df.loc[df['sex_upon_intake']=='Unknown', 'sex'] = 2"
      ],
      "execution_count": 0,
      "outputs": []
    },
    {
      "cell_type": "code",
      "metadata": {
        "id": "E2gyCj3UBzAz",
        "colab_type": "code",
        "colab": {}
      },
      "source": [
        "df['forCastration'] = 0\n",
        "df.loc[((df['sex_upon_outcome'].str.lower().str.contains('neutered') | \n",
        "          df['sex_upon_outcome'].str.lower().str.contains('spayed')) & \n",
        "          (df['sex_upon_intake'].str.lower().str.contains('intact'))),'forCastration' ] = 1\n",
        "\n",
        "df.loc[df['sex_upon_intake']=='Unknown', 'forCastration'] = 2"
      ],
      "execution_count": 0,
      "outputs": []
    },
    {
      "cell_type": "code",
      "metadata": {
        "id": "WnjKeKcuBzA2",
        "colab_type": "code",
        "colab": {}
      },
      "source": [
        "df.drop(labels =['animal_id_outcome','intake_datetime','outcome_datetime'],\n",
        "           axis=1, inplace=True)"
      ],
      "execution_count": 0,
      "outputs": []
    },
    {
      "cell_type": "code",
      "metadata": {
        "scrolled": false,
        "id": "KOp_K8JiBzA6",
        "colab_type": "code",
        "colab": {
          "base_uri": "https://localhost:8080/",
          "height": 595
        },
        "outputId": "de66fa94-071a-44e2-9e85-1945fe1494ee"
      },
      "source": [
        "df.info()"
      ],
      "execution_count": 29,
      "outputs": [
        {
          "output_type": "stream",
          "text": [
            "<class 'pandas.core.frame.DataFrame'>\n",
            "RangeIndex: 79672 entries, 0 to 79671\n",
            "Data columns (total 29 columns):\n",
            "animal_type                79672 non-null object\n",
            "breed                      79672 non-null object\n",
            "color                      79672 non-null object\n",
            "intake_condition           79672 non-null object\n",
            "intake_type                79672 non-null object\n",
            "sex_upon_intake            79672 non-null object\n",
            "age_upon_intake_(days)     79672 non-null int64\n",
            "time_in_shelter_days       79672 non-null float64\n",
            "sex_upon_outcome           79672 non-null object\n",
            "isMix                      79672 non-null int64\n",
            "n_colors                   79672 non-null int64\n",
            "intake_year                79672 non-null int64\n",
            "intake_month               79672 non-null int64\n",
            "intake_day                 79672 non-null int64\n",
            "intake_dayoftheyear        79672 non-null int64\n",
            "day_of_week                79672 non-null int64\n",
            "is_weekend                 79672 non-null int64\n",
            "week                       79672 non-null int64\n",
            "outcome_year               79672 non-null int64\n",
            "outcome_month              79672 non-null int64\n",
            "outcome_day                79672 non-null int64\n",
            "outcome_dayoftheyear       79672 non-null int64\n",
            "outcome_day_of_week        79672 non-null int64\n",
            "outcome_is_weekend         79672 non-null int64\n",
            "outcome_week               79672 non-null int64\n",
            "age_upon_outcome_(days)    79672 non-null float64\n",
            "isCastrated                79672 non-null int64\n",
            "sex                        79672 non-null int64\n",
            "forCastration              79672 non-null int64\n",
            "dtypes: float64(2), int64(20), object(7)\n",
            "memory usage: 17.6+ MB\n"
          ],
          "name": "stdout"
        }
      ]
    },
    {
      "cell_type": "code",
      "metadata": {
        "id": "vO5iVEnPBzA8",
        "colab_type": "code",
        "colab": {
          "base_uri": "https://localhost:8080/",
          "height": 136
        },
        "outputId": "448198f7-f6ce-4aed-f1df-b1d0d1fffa2d"
      },
      "source": [
        "to_encode = list(df.select_dtypes(include='object').columns)\n",
        "to_encode"
      ],
      "execution_count": 30,
      "outputs": [
        {
          "output_type": "execute_result",
          "data": {
            "text/plain": [
              "['animal_type',\n",
              " 'breed',\n",
              " 'color',\n",
              " 'intake_condition',\n",
              " 'intake_type',\n",
              " 'sex_upon_intake',\n",
              " 'sex_upon_outcome']"
            ]
          },
          "metadata": {
            "tags": []
          },
          "execution_count": 30
        }
      ]
    },
    {
      "cell_type": "code",
      "metadata": {
        "id": "tMv9ttzRBzA-",
        "colab_type": "code",
        "colab": {}
      },
      "source": [
        "from sklearn.preprocessing import LabelEncoder\n",
        "coder = LabelEncoder()\n",
        "\n",
        "df[to_encode] = df[to_encode].apply(coder.fit_transform)"
      ],
      "execution_count": 0,
      "outputs": []
    },
    {
      "cell_type": "code",
      "metadata": {
        "id": "vU0PuutCBzBN",
        "colab_type": "code",
        "colab": {}
      },
      "source": [
        "train, test = df.iloc[:train.shape[0],:], df.iloc[train.shape[0]:,:]\n",
        "test.reset_index(drop=True, inplace=True)"
      ],
      "execution_count": 0,
      "outputs": []
    },
    {
      "cell_type": "code",
      "metadata": {
        "id": "8quGg5QgGfUA",
        "colab_type": "code",
        "colab": {}
      },
      "source": [
        "target = target.map({'Adoption' : 8, 'Transfer': 7, 'Return to Owner' : 6, 'Euthanasia' : 5, 'Died' : 4, 'Missing' : 3, 'Relocate' : 2, 'Rto-Adopt' : 1, 'Disposal' : 0})"
      ],
      "execution_count": 0,
      "outputs": []
    },
    {
      "cell_type": "code",
      "metadata": {
        "id": "Rg9wbDkvG8S_",
        "colab_type": "code",
        "colab": {}
      },
      "source": [
        "X = train.copy()\n",
        "y = target"
      ],
      "execution_count": 0,
      "outputs": []
    },
    {
      "cell_type": "code",
      "metadata": {
        "id": "OBSqEP4wBzBP",
        "colab_type": "code",
        "colab": {}
      },
      "source": [
        "from sklearn.model_selection import train_test_split\n",
        "X_train, X_test, y_train, y_test = train_test_split(X, y, random_state = 20)"
      ],
      "execution_count": 0,
      "outputs": []
    },
    {
      "cell_type": "code",
      "metadata": {
        "id": "i4xSHpgmBzBW",
        "colab_type": "code",
        "colab": {
          "base_uri": "https://localhost:8080/",
          "height": 136
        },
        "outputId": "e8dbda09-ba53-4a93-cee8-1e683947aecf"
      },
      "source": [
        "from sklearn.model_selection import train_test_split\n",
        "import xgboost as xgb\n",
        "\n",
        "xgb = xgb.XGBClassifier(n_jobs=-1)\n",
        "\n",
        "xgb.fit(X_train, y_train)"
      ],
      "execution_count": 44,
      "outputs": [
        {
          "output_type": "execute_result",
          "data": {
            "text/plain": [
              "XGBClassifier(base_score=0.5, booster='gbtree', colsample_bylevel=1,\n",
              "              colsample_bynode=1, colsample_bytree=1, gamma=0,\n",
              "              learning_rate=0.1, max_delta_step=0, max_depth=3,\n",
              "              min_child_weight=1, missing=None, n_estimators=100, n_jobs=-1,\n",
              "              nthread=None, objective='multi:softprob', random_state=0,\n",
              "              reg_alpha=0, reg_lambda=1, scale_pos_weight=1, seed=None,\n",
              "              silent=None, subsample=1, verbosity=1)"
            ]
          },
          "metadata": {
            "tags": []
          },
          "execution_count": 44
        }
      ]
    },
    {
      "cell_type": "code",
      "metadata": {
        "id": "kBcLkrWfHEUn",
        "colab_type": "code",
        "colab": {
          "base_uri": "https://localhost:8080/",
          "height": 34
        },
        "outputId": "3b5dc0b7-9ae1-45c9-b05d-474ecfc402c0"
      },
      "source": [
        "from sklearn.metrics import f1_score\n",
        "\n",
        "y_pred = xgb.predict(X_test)\n",
        "\n",
        "f1_score(y_test, y_pred, average='micro')"
      ],
      "execution_count": 45,
      "outputs": [
        {
          "output_type": "execute_result",
          "data": {
            "text/plain": [
              "0.6084846456363484"
            ]
          },
          "metadata": {
            "tags": []
          },
          "execution_count": 45
        }
      ]
    },
    {
      "cell_type": "code",
      "metadata": {
        "id": "Ys01oARpH79Y",
        "colab_type": "code",
        "colab": {
          "base_uri": "https://localhost:8080/",
          "height": 419
        },
        "outputId": "52679aef-922f-43e4-82eb-d62e495280fe"
      },
      "source": [
        "animal_id = pd.read_csv('/content/drive/My Drive/Animal Shelter/test.csv',usecols=['animal_id_outcome'] )\n",
        "animal_id"
      ],
      "execution_count": 50,
      "outputs": [
        {
          "output_type": "execute_result",
          "data": {
            "text/html": [
              "<div>\n",
              "<style scoped>\n",
              "    .dataframe tbody tr th:only-of-type {\n",
              "        vertical-align: middle;\n",
              "    }\n",
              "\n",
              "    .dataframe tbody tr th {\n",
              "        vertical-align: top;\n",
              "    }\n",
              "\n",
              "    .dataframe thead th {\n",
              "        text-align: right;\n",
              "    }\n",
              "</style>\n",
              "<table border=\"1\" class=\"dataframe\">\n",
              "  <thead>\n",
              "    <tr style=\"text-align: right;\">\n",
              "      <th></th>\n",
              "      <th>animal_id_outcome</th>\n",
              "    </tr>\n",
              "  </thead>\n",
              "  <tbody>\n",
              "    <tr>\n",
              "      <th>0</th>\n",
              "      <td>A723133</td>\n",
              "    </tr>\n",
              "    <tr>\n",
              "      <th>1</th>\n",
              "      <td>A723134</td>\n",
              "    </tr>\n",
              "    <tr>\n",
              "      <th>2</th>\n",
              "      <td>A723135</td>\n",
              "    </tr>\n",
              "    <tr>\n",
              "      <th>3</th>\n",
              "      <td>A723136</td>\n",
              "    </tr>\n",
              "    <tr>\n",
              "      <th>4</th>\n",
              "      <td>A723137</td>\n",
              "    </tr>\n",
              "    <tr>\n",
              "      <th>...</th>\n",
              "      <td>...</td>\n",
              "    </tr>\n",
              "    <tr>\n",
              "      <th>31864</th>\n",
              "      <td>A769060</td>\n",
              "    </tr>\n",
              "    <tr>\n",
              "      <th>31865</th>\n",
              "      <td>A769064</td>\n",
              "    </tr>\n",
              "    <tr>\n",
              "      <th>31866</th>\n",
              "      <td>A769065</td>\n",
              "    </tr>\n",
              "    <tr>\n",
              "      <th>31867</th>\n",
              "      <td>A769066</td>\n",
              "    </tr>\n",
              "    <tr>\n",
              "      <th>31868</th>\n",
              "      <td>A769067</td>\n",
              "    </tr>\n",
              "  </tbody>\n",
              "</table>\n",
              "<p>31869 rows × 1 columns</p>\n",
              "</div>"
            ],
            "text/plain": [
              "      animal_id_outcome\n",
              "0               A723133\n",
              "1               A723134\n",
              "2               A723135\n",
              "3               A723136\n",
              "4               A723137\n",
              "...                 ...\n",
              "31864           A769060\n",
              "31865           A769064\n",
              "31866           A769065\n",
              "31867           A769066\n",
              "31868           A769067\n",
              "\n",
              "[31869 rows x 1 columns]"
            ]
          },
          "metadata": {
            "tags": []
          },
          "execution_count": 50
        }
      ]
    },
    {
      "cell_type": "code",
      "metadata": {
        "id": "tmftCcAiHb53",
        "colab_type": "code",
        "colab": {
          "base_uri": "https://localhost:8080/",
          "height": 419
        },
        "outputId": "25aec503-5dc1-4fb8-c32a-213cb5fe949e"
      },
      "source": [
        "predictions = pd.DataFrame(xgb.predict(test), columns=['outcome_type'])\n",
        "\n",
        "submission = pd.concat([animal_id, predictions], axis=1)\n",
        "submission['outcome_type']= submission['outcome_type'].map({ 8 :'Adoption', 7: 'Transfer', 6: 'Return to Owner', 5 : 'Euthanasia' , 4 : 'Died' , 3 : 'Missing' , 2 : 'Relocate' ,  1 : 'Rto-Adopt' , 0 : 'Disposal' }).astype(str)\n",
        "submission.to_csv('/content/drive/My Drive/Animal Shelter/xgb_basemodel.csv')\n",
        "\n",
        "submission"
      ],
      "execution_count": 53,
      "outputs": [
        {
          "output_type": "execute_result",
          "data": {
            "text/html": [
              "<div>\n",
              "<style scoped>\n",
              "    .dataframe tbody tr th:only-of-type {\n",
              "        vertical-align: middle;\n",
              "    }\n",
              "\n",
              "    .dataframe tbody tr th {\n",
              "        vertical-align: top;\n",
              "    }\n",
              "\n",
              "    .dataframe thead th {\n",
              "        text-align: right;\n",
              "    }\n",
              "</style>\n",
              "<table border=\"1\" class=\"dataframe\">\n",
              "  <thead>\n",
              "    <tr style=\"text-align: right;\">\n",
              "      <th></th>\n",
              "      <th>animal_id_outcome</th>\n",
              "      <th>outcome_type</th>\n",
              "    </tr>\n",
              "  </thead>\n",
              "  <tbody>\n",
              "    <tr>\n",
              "      <th>0</th>\n",
              "      <td>A723133</td>\n",
              "      <td>Adoption</td>\n",
              "    </tr>\n",
              "    <tr>\n",
              "      <th>1</th>\n",
              "      <td>A723134</td>\n",
              "      <td>Adoption</td>\n",
              "    </tr>\n",
              "    <tr>\n",
              "      <th>2</th>\n",
              "      <td>A723135</td>\n",
              "      <td>Adoption</td>\n",
              "    </tr>\n",
              "    <tr>\n",
              "      <th>3</th>\n",
              "      <td>A723136</td>\n",
              "      <td>Transfer</td>\n",
              "    </tr>\n",
              "    <tr>\n",
              "      <th>4</th>\n",
              "      <td>A723137</td>\n",
              "      <td>Transfer</td>\n",
              "    </tr>\n",
              "    <tr>\n",
              "      <th>...</th>\n",
              "      <td>...</td>\n",
              "      <td>...</td>\n",
              "    </tr>\n",
              "    <tr>\n",
              "      <th>31864</th>\n",
              "      <td>A769060</td>\n",
              "      <td>Transfer</td>\n",
              "    </tr>\n",
              "    <tr>\n",
              "      <th>31865</th>\n",
              "      <td>A769064</td>\n",
              "      <td>Euthanasia</td>\n",
              "    </tr>\n",
              "    <tr>\n",
              "      <th>31866</th>\n",
              "      <td>A769065</td>\n",
              "      <td>Euthanasia</td>\n",
              "    </tr>\n",
              "    <tr>\n",
              "      <th>31867</th>\n",
              "      <td>A769066</td>\n",
              "      <td>Return to Owner</td>\n",
              "    </tr>\n",
              "    <tr>\n",
              "      <th>31868</th>\n",
              "      <td>A769067</td>\n",
              "      <td>Return to Owner</td>\n",
              "    </tr>\n",
              "  </tbody>\n",
              "</table>\n",
              "<p>31869 rows × 2 columns</p>\n",
              "</div>"
            ],
            "text/plain": [
              "      animal_id_outcome     outcome_type\n",
              "0               A723133         Adoption\n",
              "1               A723134         Adoption\n",
              "2               A723135         Adoption\n",
              "3               A723136         Transfer\n",
              "4               A723137         Transfer\n",
              "...                 ...              ...\n",
              "31864           A769060         Transfer\n",
              "31865           A769064       Euthanasia\n",
              "31866           A769065       Euthanasia\n",
              "31867           A769066  Return to Owner\n",
              "31868           A769067  Return to Owner\n",
              "\n",
              "[31869 rows x 2 columns]"
            ]
          },
          "metadata": {
            "tags": []
          },
          "execution_count": 53
        }
      ]
    }
  ]
}