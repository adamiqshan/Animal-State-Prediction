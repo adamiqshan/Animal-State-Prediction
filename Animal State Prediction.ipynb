{
 "cells": [
  {
   "cell_type": "markdown",
   "metadata": {},
   "source": [
    "<h3>Importing Necessary Libraries</h3>"
   ]
  },
  {
   "cell_type": "code",
   "execution_count": 976,
   "metadata": {},
   "outputs": [],
   "source": [
    "import numpy as np\n",
    "import pandas as pd\n",
    "import seaborn as sns\n",
    "import matplotlib.pyplot as plt\n",
    "pd.options.display.max_rows = 100\n",
    "pd.options.display.max_columns = 100"
   ]
  },
  {
   "cell_type": "markdown",
   "metadata": {},
   "source": [
    "<h3>Exploring Datasets</h3>"
   ]
  },
  {
   "cell_type": "code",
   "execution_count": 977,
   "metadata": {},
   "outputs": [
    {
     "data": {
      "text/html": [
       "<div>\n",
       "<style scoped>\n",
       "    .dataframe tbody tr th:only-of-type {\n",
       "        vertical-align: middle;\n",
       "    }\n",
       "\n",
       "    .dataframe tbody tr th {\n",
       "        vertical-align: top;\n",
       "    }\n",
       "\n",
       "    .dataframe thead th {\n",
       "        text-align: right;\n",
       "    }\n",
       "</style>\n",
       "<table border=\"1\" class=\"dataframe\">\n",
       "  <thead>\n",
       "    <tr style=\"text-align: right;\">\n",
       "      <th></th>\n",
       "      <th>animal_id_outcome</th>\n",
       "      <th>dob_year</th>\n",
       "      <th>dob_month</th>\n",
       "      <th>age_upon_intake</th>\n",
       "      <th>animal_type</th>\n",
       "      <th>breed</th>\n",
       "      <th>color</th>\n",
       "      <th>intake_condition</th>\n",
       "      <th>intake_type</th>\n",
       "      <th>sex_upon_intake</th>\n",
       "      <th>count</th>\n",
       "      <th>age_upon_intake_(days)</th>\n",
       "      <th>age_upon_intake_(years)</th>\n",
       "      <th>age_upon_intake_age_group</th>\n",
       "      <th>intake_datetime</th>\n",
       "      <th>intake_month</th>\n",
       "      <th>intake_year</th>\n",
       "      <th>intake_monthyear</th>\n",
       "      <th>intake_weekday</th>\n",
       "      <th>intake_hour</th>\n",
       "      <th>intake_number</th>\n",
       "      <th>time_in_shelter</th>\n",
       "      <th>time_in_shelter_days</th>\n",
       "      <th>age_upon_outcome</th>\n",
       "      <th>date_of_birth</th>\n",
       "      <th>sex_upon_outcome</th>\n",
       "      <th>age_upon_outcome_(days)</th>\n",
       "      <th>age_upon_outcome_(years)</th>\n",
       "      <th>age_upon_outcome_age_group</th>\n",
       "      <th>outcome_datetime</th>\n",
       "      <th>outcome_month</th>\n",
       "      <th>outcome_year</th>\n",
       "      <th>outcome_monthyear</th>\n",
       "      <th>outcome_weekday</th>\n",
       "      <th>outcome_hour</th>\n",
       "      <th>outcome_number</th>\n",
       "      <th>outcome_type</th>\n",
       "    </tr>\n",
       "  </thead>\n",
       "  <tbody>\n",
       "    <tr>\n",
       "      <th>0</th>\n",
       "      <td>A006100</td>\n",
       "      <td>2007</td>\n",
       "      <td>7</td>\n",
       "      <td>10 years</td>\n",
       "      <td>Dog</td>\n",
       "      <td>Spinone Italiano Mix</td>\n",
       "      <td>Yellow/White</td>\n",
       "      <td>Normal</td>\n",
       "      <td>Stray</td>\n",
       "      <td>Neutered Male</td>\n",
       "      <td>1</td>\n",
       "      <td>3650</td>\n",
       "      <td>10.0</td>\n",
       "      <td>(7.5, 10.0]</td>\n",
       "      <td>2017-12-07 00:00:00</td>\n",
       "      <td>12</td>\n",
       "      <td>2017</td>\n",
       "      <td>2017-12</td>\n",
       "      <td>Thursday</td>\n",
       "      <td>14</td>\n",
       "      <td>1.0</td>\n",
       "      <td>0 days 14:07:00.000000000</td>\n",
       "      <td>0.588194</td>\n",
       "      <td>10 years</td>\n",
       "      <td>2007-07-09 00:00:00</td>\n",
       "      <td>Neutered Male</td>\n",
       "      <td>3650</td>\n",
       "      <td>10.0</td>\n",
       "      <td>(7.5, 10.0]</td>\n",
       "      <td>2017-12-07 14:07:00</td>\n",
       "      <td>12</td>\n",
       "      <td>2017</td>\n",
       "      <td>2017-12</td>\n",
       "      <td>Thursday</td>\n",
       "      <td>0</td>\n",
       "      <td>1.0</td>\n",
       "      <td>Return to Owner</td>\n",
       "    </tr>\n",
       "    <tr>\n",
       "      <th>1</th>\n",
       "      <td>A006100</td>\n",
       "      <td>2007</td>\n",
       "      <td>7</td>\n",
       "      <td>7 years</td>\n",
       "      <td>Dog</td>\n",
       "      <td>Spinone Italiano Mix</td>\n",
       "      <td>Yellow/White</td>\n",
       "      <td>Normal</td>\n",
       "      <td>Public Assist</td>\n",
       "      <td>Neutered Male</td>\n",
       "      <td>1</td>\n",
       "      <td>2555</td>\n",
       "      <td>7.0</td>\n",
       "      <td>(5.0, 7.5]</td>\n",
       "      <td>2014-12-19 10:21:00</td>\n",
       "      <td>12</td>\n",
       "      <td>2014</td>\n",
       "      <td>2014-12</td>\n",
       "      <td>Friday</td>\n",
       "      <td>10</td>\n",
       "      <td>2.0</td>\n",
       "      <td>1 days 06:14:00.000000000</td>\n",
       "      <td>1.259722</td>\n",
       "      <td>7 years</td>\n",
       "      <td>2007-07-09 00:00:00</td>\n",
       "      <td>Neutered Male</td>\n",
       "      <td>2555</td>\n",
       "      <td>7.0</td>\n",
       "      <td>(5.0, 7.5]</td>\n",
       "      <td>2014-12-20 16:35:00</td>\n",
       "      <td>12</td>\n",
       "      <td>2014</td>\n",
       "      <td>2014-12</td>\n",
       "      <td>Saturday</td>\n",
       "      <td>16</td>\n",
       "      <td>2.0</td>\n",
       "      <td>Return to Owner</td>\n",
       "    </tr>\n",
       "    <tr>\n",
       "      <th>2</th>\n",
       "      <td>A006100</td>\n",
       "      <td>2007</td>\n",
       "      <td>7</td>\n",
       "      <td>6 years</td>\n",
       "      <td>Dog</td>\n",
       "      <td>Spinone Italiano Mix</td>\n",
       "      <td>Yellow/White</td>\n",
       "      <td>Normal</td>\n",
       "      <td>Public Assist</td>\n",
       "      <td>Neutered Male</td>\n",
       "      <td>1</td>\n",
       "      <td>2190</td>\n",
       "      <td>6.0</td>\n",
       "      <td>(5.0, 7.5]</td>\n",
       "      <td>2014-03-07 14:26:00</td>\n",
       "      <td>3</td>\n",
       "      <td>2014</td>\n",
       "      <td>2014-03</td>\n",
       "      <td>Friday</td>\n",
       "      <td>14</td>\n",
       "      <td>3.0</td>\n",
       "      <td>1 days 02:44:00.000000000</td>\n",
       "      <td>1.113889</td>\n",
       "      <td>6 years</td>\n",
       "      <td>2007-07-09 00:00:00</td>\n",
       "      <td>Neutered Male</td>\n",
       "      <td>2190</td>\n",
       "      <td>6.0</td>\n",
       "      <td>(5.0, 7.5]</td>\n",
       "      <td>NaN</td>\n",
       "      <td>3</td>\n",
       "      <td>2014</td>\n",
       "      <td>2014-03</td>\n",
       "      <td>Saturday</td>\n",
       "      <td>17</td>\n",
       "      <td>3.0</td>\n",
       "      <td>Return to Owner</td>\n",
       "    </tr>\n",
       "    <tr>\n",
       "      <th>3</th>\n",
       "      <td>A047759</td>\n",
       "      <td>2004</td>\n",
       "      <td>4</td>\n",
       "      <td>10 years</td>\n",
       "      <td>Dog</td>\n",
       "      <td>Dachshund</td>\n",
       "      <td>Tricolor</td>\n",
       "      <td>Normal</td>\n",
       "      <td>Owner Surrender</td>\n",
       "      <td>Neutered Male</td>\n",
       "      <td>1</td>\n",
       "      <td>3650</td>\n",
       "      <td>10.0</td>\n",
       "      <td>(7.5, 10.0]</td>\n",
       "      <td>2014-04-02 15:55:00</td>\n",
       "      <td>4</td>\n",
       "      <td>2014</td>\n",
       "      <td>2014-04</td>\n",
       "      <td>Wednesday</td>\n",
       "      <td>15</td>\n",
       "      <td>1.0</td>\n",
       "      <td>4 days 23:17:00.000000000</td>\n",
       "      <td>4.970139</td>\n",
       "      <td>10 years</td>\n",
       "      <td>2004-04-02 00:00:00</td>\n",
       "      <td>Neutered Male</td>\n",
       "      <td>3650</td>\n",
       "      <td>10.0</td>\n",
       "      <td>(7.5, 10.0]</td>\n",
       "      <td>2014-04-07 15:12:00</td>\n",
       "      <td>4</td>\n",
       "      <td>2014</td>\n",
       "      <td>2014-04</td>\n",
       "      <td>Monday</td>\n",
       "      <td>15</td>\n",
       "      <td>1.0</td>\n",
       "      <td>Missing</td>\n",
       "    </tr>\n",
       "    <tr>\n",
       "      <th>4</th>\n",
       "      <td>A134067</td>\n",
       "      <td>1997</td>\n",
       "      <td>10</td>\n",
       "      <td>16 years</td>\n",
       "      <td>Dog</td>\n",
       "      <td>Shetland Sheepdog</td>\n",
       "      <td>Brown/White</td>\n",
       "      <td>Injured</td>\n",
       "      <td>Public Assist</td>\n",
       "      <td>Neutered Male</td>\n",
       "      <td>1</td>\n",
       "      <td>5840</td>\n",
       "      <td>16.0</td>\n",
       "      <td>(15.0, 17.5]</td>\n",
       "      <td>2013-11-16 09:02:00</td>\n",
       "      <td>11</td>\n",
       "      <td>2013</td>\n",
       "      <td>2013-11</td>\n",
       "      <td>Saturday</td>\n",
       "      <td>9</td>\n",
       "      <td>1.0</td>\n",
       "      <td>0 days 02:52:00.000000000</td>\n",
       "      <td>0.119444</td>\n",
       "      <td>16 years</td>\n",
       "      <td>1997-10-16 00:00:00</td>\n",
       "      <td>Neutered Male</td>\n",
       "      <td>5840</td>\n",
       "      <td>16.0</td>\n",
       "      <td>(15.0, 17.5]</td>\n",
       "      <td>2013-11-16 11:54:00</td>\n",
       "      <td>11</td>\n",
       "      <td>2013</td>\n",
       "      <td>2013-11</td>\n",
       "      <td>Saturday</td>\n",
       "      <td>11</td>\n",
       "      <td>1.0</td>\n",
       "      <td>Return to Owner</td>\n",
       "    </tr>\n",
       "    <tr>\n",
       "      <th>5</th>\n",
       "      <td>A141142</td>\n",
       "      <td>1998</td>\n",
       "      <td>6</td>\n",
       "      <td>15 years</td>\n",
       "      <td>Dog</td>\n",
       "      <td>Labrador Retriever/Pit Bull</td>\n",
       "      <td>Black/White</td>\n",
       "      <td>Aged</td>\n",
       "      <td>Stray</td>\n",
       "      <td>Spayed Female</td>\n",
       "      <td>1</td>\n",
       "      <td>5475</td>\n",
       "      <td>15.0</td>\n",
       "      <td>(12.5, 15.0]</td>\n",
       "      <td>2013-11-16 14:46:00</td>\n",
       "      <td>11</td>\n",
       "      <td>2013</td>\n",
       "      <td>2013-11</td>\n",
       "      <td>Saturday</td>\n",
       "      <td>14</td>\n",
       "      <td>1.0</td>\n",
       "      <td>0 days 20:54:00.000000000</td>\n",
       "      <td>0.870833</td>\n",
       "      <td>15 years</td>\n",
       "      <td>1998-06-01 00:00:00</td>\n",
       "      <td>Spayed Female</td>\n",
       "      <td>5475</td>\n",
       "      <td>15.0</td>\n",
       "      <td>(12.5, 15.0]</td>\n",
       "      <td>2013-11-17 11:40:00</td>\n",
       "      <td>11</td>\n",
       "      <td>2013</td>\n",
       "      <td>2013-11</td>\n",
       "      <td>Sunday</td>\n",
       "      <td>11</td>\n",
       "      <td>1.0</td>\n",
       "      <td>Return to Owner</td>\n",
       "    </tr>\n",
       "    <tr>\n",
       "      <th>6</th>\n",
       "      <td>A163459</td>\n",
       "      <td>1999</td>\n",
       "      <td>10</td>\n",
       "      <td>15 years</td>\n",
       "      <td>Dog</td>\n",
       "      <td>Miniature Schnauzer Mix</td>\n",
       "      <td>Black/Gray</td>\n",
       "      <td>Normal</td>\n",
       "      <td>Stray</td>\n",
       "      <td>Intact Female</td>\n",
       "      <td>1</td>\n",
       "      <td>5475</td>\n",
       "      <td>15.0</td>\n",
       "      <td>(12.5, 15.0]</td>\n",
       "      <td>2014-11-14 15:11:00</td>\n",
       "      <td>11</td>\n",
       "      <td>2014</td>\n",
       "      <td>2014-11</td>\n",
       "      <td>Friday</td>\n",
       "      <td>15</td>\n",
       "      <td>1.0</td>\n",
       "      <td>0 days 04:17:00.000000000</td>\n",
       "      <td>0.178472</td>\n",
       "      <td>15 years</td>\n",
       "      <td>1999-10-19 00:00:00</td>\n",
       "      <td>Intact Female</td>\n",
       "      <td>5475</td>\n",
       "      <td>15.0</td>\n",
       "      <td>(12.5, 15.0]</td>\n",
       "      <td>2014-11-14 19:28:00</td>\n",
       "      <td>11</td>\n",
       "      <td>2014</td>\n",
       "      <td>2014-11</td>\n",
       "      <td>Friday</td>\n",
       "      <td>19</td>\n",
       "      <td>1.0</td>\n",
       "      <td>Return to Owner</td>\n",
       "    </tr>\n",
       "    <tr>\n",
       "      <th>7</th>\n",
       "      <td>A165752</td>\n",
       "      <td>1999</td>\n",
       "      <td>8</td>\n",
       "      <td>15 years</td>\n",
       "      <td>Dog</td>\n",
       "      <td>Lhasa Apso Mix</td>\n",
       "      <td>Brown/White</td>\n",
       "      <td>Normal</td>\n",
       "      <td>Stray</td>\n",
       "      <td>Neutered Male</td>\n",
       "      <td>1</td>\n",
       "      <td>5475</td>\n",
       "      <td>15.0</td>\n",
       "      <td>(12.5, 15.0]</td>\n",
       "      <td>2014-09-15 11:28:00</td>\n",
       "      <td>9</td>\n",
       "      <td>2014</td>\n",
       "      <td>2014-09</td>\n",
       "      <td>Monday</td>\n",
       "      <td>11</td>\n",
       "      <td>1.0</td>\n",
       "      <td>0 days 05:07:00.000000000</td>\n",
       "      <td>0.213194</td>\n",
       "      <td>15 years</td>\n",
       "      <td>1999-08-18 00:00:00</td>\n",
       "      <td>Neutered Male</td>\n",
       "      <td>5475</td>\n",
       "      <td>15.0</td>\n",
       "      <td>(12.5, 15.0]</td>\n",
       "      <td>NaN</td>\n",
       "      <td>9</td>\n",
       "      <td>2014</td>\n",
       "      <td>2014-09</td>\n",
       "      <td>Monday</td>\n",
       "      <td>16</td>\n",
       "      <td>1.0</td>\n",
       "      <td>Return to Owner</td>\n",
       "    </tr>\n",
       "    <tr>\n",
       "      <th>8</th>\n",
       "      <td>A178569</td>\n",
       "      <td>1999</td>\n",
       "      <td>3</td>\n",
       "      <td>15 years</td>\n",
       "      <td>Dog</td>\n",
       "      <td>Shetland Sheepdog Mix</td>\n",
       "      <td>White/Black</td>\n",
       "      <td>Normal</td>\n",
       "      <td>Public Assist</td>\n",
       "      <td>Neutered Male</td>\n",
       "      <td>1</td>\n",
       "      <td>5475</td>\n",
       "      <td>15.0</td>\n",
       "      <td>(12.5, 15.0]</td>\n",
       "      <td>2014-03-17 09:45:00</td>\n",
       "      <td>3</td>\n",
       "      <td>2014</td>\n",
       "      <td>2014-03</td>\n",
       "      <td>Monday</td>\n",
       "      <td>9</td>\n",
       "      <td>1.0</td>\n",
       "      <td>6 days 06:12:00.000000000</td>\n",
       "      <td>6.258333</td>\n",
       "      <td>15 years</td>\n",
       "      <td>1999-03-17 00:00:00</td>\n",
       "      <td>Neutered Male</td>\n",
       "      <td>5475</td>\n",
       "      <td>15.0</td>\n",
       "      <td>(12.5, 15.0]</td>\n",
       "      <td>NaN</td>\n",
       "      <td>3</td>\n",
       "      <td>2014</td>\n",
       "      <td>2014-03</td>\n",
       "      <td>Sunday</td>\n",
       "      <td>15</td>\n",
       "      <td>1.0</td>\n",
       "      <td>Return to Owner</td>\n",
       "    </tr>\n",
       "    <tr>\n",
       "      <th>9</th>\n",
       "      <td>A189592</td>\n",
       "      <td>1997</td>\n",
       "      <td>8</td>\n",
       "      <td>18 years</td>\n",
       "      <td>Dog</td>\n",
       "      <td>Shetland Sheepdog Mix</td>\n",
       "      <td>Brown/White</td>\n",
       "      <td>Normal</td>\n",
       "      <td>Stray</td>\n",
       "      <td>Spayed Female</td>\n",
       "      <td>1</td>\n",
       "      <td>6570</td>\n",
       "      <td>18.0</td>\n",
       "      <td>(17.5, 20.0]</td>\n",
       "      <td>2015-09-18 17:46:00</td>\n",
       "      <td>9</td>\n",
       "      <td>2015</td>\n",
       "      <td>2015-09</td>\n",
       "      <td>Friday</td>\n",
       "      <td>17</td>\n",
       "      <td>1.0</td>\n",
       "      <td>0 days 01:18:00.000000000</td>\n",
       "      <td>0.054167</td>\n",
       "      <td>18 years</td>\n",
       "      <td>1997-08-01 00:00:00</td>\n",
       "      <td>Spayed Female</td>\n",
       "      <td>6570</td>\n",
       "      <td>18.0</td>\n",
       "      <td>(17.5, 20.0]</td>\n",
       "      <td>NaN</td>\n",
       "      <td>9</td>\n",
       "      <td>2015</td>\n",
       "      <td>2015-09</td>\n",
       "      <td>Friday</td>\n",
       "      <td>19</td>\n",
       "      <td>1.0</td>\n",
       "      <td>Return to Owner</td>\n",
       "    </tr>\n",
       "  </tbody>\n",
       "</table>\n",
       "</div>"
      ],
      "text/plain": [
       "  animal_id_outcome  dob_year  dob_month age_upon_intake animal_type  \\\n",
       "0           A006100      2007          7        10 years         Dog   \n",
       "1           A006100      2007          7         7 years         Dog   \n",
       "2           A006100      2007          7         6 years         Dog   \n",
       "3           A047759      2004          4        10 years         Dog   \n",
       "4           A134067      1997         10        16 years         Dog   \n",
       "5           A141142      1998          6        15 years         Dog   \n",
       "6           A163459      1999         10        15 years         Dog   \n",
       "7           A165752      1999          8        15 years         Dog   \n",
       "8           A178569      1999          3        15 years         Dog   \n",
       "9           A189592      1997          8        18 years         Dog   \n",
       "\n",
       "                         breed         color intake_condition  \\\n",
       "0         Spinone Italiano Mix  Yellow/White           Normal   \n",
       "1         Spinone Italiano Mix  Yellow/White           Normal   \n",
       "2         Spinone Italiano Mix  Yellow/White           Normal   \n",
       "3                    Dachshund      Tricolor           Normal   \n",
       "4            Shetland Sheepdog   Brown/White          Injured   \n",
       "5  Labrador Retriever/Pit Bull   Black/White             Aged   \n",
       "6      Miniature Schnauzer Mix    Black/Gray           Normal   \n",
       "7               Lhasa Apso Mix   Brown/White           Normal   \n",
       "8        Shetland Sheepdog Mix   White/Black           Normal   \n",
       "9        Shetland Sheepdog Mix   Brown/White           Normal   \n",
       "\n",
       "       intake_type sex_upon_intake  count  age_upon_intake_(days)  \\\n",
       "0            Stray   Neutered Male      1                    3650   \n",
       "1    Public Assist   Neutered Male      1                    2555   \n",
       "2    Public Assist   Neutered Male      1                    2190   \n",
       "3  Owner Surrender   Neutered Male      1                    3650   \n",
       "4    Public Assist   Neutered Male      1                    5840   \n",
       "5            Stray   Spayed Female      1                    5475   \n",
       "6            Stray   Intact Female      1                    5475   \n",
       "7            Stray   Neutered Male      1                    5475   \n",
       "8    Public Assist   Neutered Male      1                    5475   \n",
       "9            Stray   Spayed Female      1                    6570   \n",
       "\n",
       "   age_upon_intake_(years) age_upon_intake_age_group      intake_datetime  \\\n",
       "0                     10.0               (7.5, 10.0]  2017-12-07 00:00:00   \n",
       "1                      7.0                (5.0, 7.5]  2014-12-19 10:21:00   \n",
       "2                      6.0                (5.0, 7.5]  2014-03-07 14:26:00   \n",
       "3                     10.0               (7.5, 10.0]  2014-04-02 15:55:00   \n",
       "4                     16.0              (15.0, 17.5]  2013-11-16 09:02:00   \n",
       "5                     15.0              (12.5, 15.0]  2013-11-16 14:46:00   \n",
       "6                     15.0              (12.5, 15.0]  2014-11-14 15:11:00   \n",
       "7                     15.0              (12.5, 15.0]  2014-09-15 11:28:00   \n",
       "8                     15.0              (12.5, 15.0]  2014-03-17 09:45:00   \n",
       "9                     18.0              (17.5, 20.0]  2015-09-18 17:46:00   \n",
       "\n",
       "   intake_month  intake_year intake_monthyear intake_weekday  intake_hour  \\\n",
       "0            12         2017          2017-12       Thursday           14   \n",
       "1            12         2014          2014-12         Friday           10   \n",
       "2             3         2014          2014-03         Friday           14   \n",
       "3             4         2014          2014-04      Wednesday           15   \n",
       "4            11         2013          2013-11       Saturday            9   \n",
       "5            11         2013          2013-11       Saturday           14   \n",
       "6            11         2014          2014-11         Friday           15   \n",
       "7             9         2014          2014-09         Monday           11   \n",
       "8             3         2014          2014-03         Monday            9   \n",
       "9             9         2015          2015-09         Friday           17   \n",
       "\n",
       "   intake_number            time_in_shelter  time_in_shelter_days  \\\n",
       "0            1.0  0 days 14:07:00.000000000              0.588194   \n",
       "1            2.0  1 days 06:14:00.000000000              1.259722   \n",
       "2            3.0  1 days 02:44:00.000000000              1.113889   \n",
       "3            1.0  4 days 23:17:00.000000000              4.970139   \n",
       "4            1.0  0 days 02:52:00.000000000              0.119444   \n",
       "5            1.0  0 days 20:54:00.000000000              0.870833   \n",
       "6            1.0  0 days 04:17:00.000000000              0.178472   \n",
       "7            1.0  0 days 05:07:00.000000000              0.213194   \n",
       "8            1.0  6 days 06:12:00.000000000              6.258333   \n",
       "9            1.0  0 days 01:18:00.000000000              0.054167   \n",
       "\n",
       "  age_upon_outcome        date_of_birth sex_upon_outcome  \\\n",
       "0         10 years  2007-07-09 00:00:00    Neutered Male   \n",
       "1          7 years  2007-07-09 00:00:00    Neutered Male   \n",
       "2          6 years  2007-07-09 00:00:00    Neutered Male   \n",
       "3         10 years  2004-04-02 00:00:00    Neutered Male   \n",
       "4         16 years  1997-10-16 00:00:00    Neutered Male   \n",
       "5         15 years  1998-06-01 00:00:00    Spayed Female   \n",
       "6         15 years  1999-10-19 00:00:00    Intact Female   \n",
       "7         15 years  1999-08-18 00:00:00    Neutered Male   \n",
       "8         15 years  1999-03-17 00:00:00    Neutered Male   \n",
       "9         18 years  1997-08-01 00:00:00    Spayed Female   \n",
       "\n",
       "   age_upon_outcome_(days)  age_upon_outcome_(years)  \\\n",
       "0                     3650                      10.0   \n",
       "1                     2555                       7.0   \n",
       "2                     2190                       6.0   \n",
       "3                     3650                      10.0   \n",
       "4                     5840                      16.0   \n",
       "5                     5475                      15.0   \n",
       "6                     5475                      15.0   \n",
       "7                     5475                      15.0   \n",
       "8                     5475                      15.0   \n",
       "9                     6570                      18.0   \n",
       "\n",
       "  age_upon_outcome_age_group     outcome_datetime  outcome_month  \\\n",
       "0                (7.5, 10.0]  2017-12-07 14:07:00             12   \n",
       "1                 (5.0, 7.5]  2014-12-20 16:35:00             12   \n",
       "2                 (5.0, 7.5]                  NaN              3   \n",
       "3                (7.5, 10.0]  2014-04-07 15:12:00              4   \n",
       "4               (15.0, 17.5]  2013-11-16 11:54:00             11   \n",
       "5               (12.5, 15.0]  2013-11-17 11:40:00             11   \n",
       "6               (12.5, 15.0]  2014-11-14 19:28:00             11   \n",
       "7               (12.5, 15.0]                  NaN              9   \n",
       "8               (12.5, 15.0]                  NaN              3   \n",
       "9               (17.5, 20.0]                  NaN              9   \n",
       "\n",
       "   outcome_year outcome_monthyear outcome_weekday  outcome_hour  \\\n",
       "0          2017           2017-12        Thursday             0   \n",
       "1          2014           2014-12        Saturday            16   \n",
       "2          2014           2014-03        Saturday            17   \n",
       "3          2014           2014-04          Monday            15   \n",
       "4          2013           2013-11        Saturday            11   \n",
       "5          2013           2013-11          Sunday            11   \n",
       "6          2014           2014-11          Friday            19   \n",
       "7          2014           2014-09          Monday            16   \n",
       "8          2014           2014-03          Sunday            15   \n",
       "9          2015           2015-09          Friday            19   \n",
       "\n",
       "   outcome_number     outcome_type  \n",
       "0             1.0  Return to Owner  \n",
       "1             2.0  Return to Owner  \n",
       "2             3.0  Return to Owner  \n",
       "3             1.0          Missing  \n",
       "4             1.0  Return to Owner  \n",
       "5             1.0  Return to Owner  \n",
       "6             1.0  Return to Owner  \n",
       "7             1.0  Return to Owner  \n",
       "8             1.0  Return to Owner  \n",
       "9             1.0  Return to Owner  "
      ]
     },
     "execution_count": 977,
     "metadata": {},
     "output_type": "execute_result"
    }
   ],
   "source": [
    "train = pd.read_csv('train.csv')\n",
    "test = pd.read_csv('test.csv')\n",
    "\n",
    "train.head(10)"
   ]
  },
  {
   "cell_type": "code",
   "execution_count": 978,
   "metadata": {
    "scrolled": true
   },
   "outputs": [
    {
     "name": "stdout",
     "output_type": "stream",
     "text": [
      "training data has 47803 rows and 37 columns\n",
      "test data has 31869 rows and 36 columns\n"
     ]
    }
   ],
   "source": [
    "print(f'training data has {train.shape[0]} rows and {train.shape[1]} columns')\n",
    "print(f'test data has {test.shape[0]} rows and {test.shape[1]} columns')"
   ]
  },
  {
   "cell_type": "code",
   "execution_count": 979,
   "metadata": {
    "scrolled": false
   },
   "outputs": [
    {
     "data": {
      "text/plain": [
       "outcome_datetime    9619\n",
       "sex_upon_intake        1\n",
       "sex_upon_outcome       1\n",
       "outcome_type           0\n",
       "intake_type            0\n",
       "dtype: int64"
      ]
     },
     "execution_count": 979,
     "metadata": {},
     "output_type": "execute_result"
    }
   ],
   "source": [
    "train.isna().sum().sort_values(ascending=False)[:5]        #20% of the outcome_datetime feature is missing\n",
    "#(train.isna().mean()*100).sort_values(ascending=False)[:5]"
   ]
  },
  {
   "cell_type": "code",
   "execution_count": 980,
   "metadata": {
    "scrolled": true
   },
   "outputs": [
    {
     "data": {
      "text/plain": [
       "outcome_number               0\n",
       "outcome_hour                 0\n",
       "intake_month                 0\n",
       "intake_datetime              0\n",
       "age_upon_intake_age_group    0\n",
       "dtype: int64"
      ]
     },
     "execution_count": 980,
     "metadata": {},
     "output_type": "execute_result"
    }
   ],
   "source": [
    "#luckily test data doesn't seem to have missing values\n",
    "test.isna().sum().sort_values(ascending=False)[:5]"
   ]
  },
  {
   "cell_type": "code",
   "execution_count": 981,
   "metadata": {},
   "outputs": [
    {
     "data": {
      "text/plain": [
       "Index(['animal_id_outcome', 'dob_year', 'dob_month', 'age_upon_intake',\n",
       "       'animal_type', 'breed', 'color', 'intake_condition', 'intake_type',\n",
       "       'sex_upon_intake', 'count', 'age_upon_intake_(days)',\n",
       "       'age_upon_intake_(years)', 'age_upon_intake_age_group',\n",
       "       'intake_datetime', 'intake_month', 'intake_year', 'intake_monthyear',\n",
       "       'intake_weekday', 'intake_hour', 'intake_number', 'time_in_shelter',\n",
       "       'time_in_shelter_days', 'age_upon_outcome', 'date_of_birth',\n",
       "       'sex_upon_outcome', 'age_upon_outcome_(days)',\n",
       "       'age_upon_outcome_(years)', 'age_upon_outcome_age_group',\n",
       "       'outcome_datetime', 'outcome_month', 'outcome_year',\n",
       "       'outcome_monthyear', 'outcome_weekday', 'outcome_hour',\n",
       "       'outcome_number', 'outcome_type'],\n",
       "      dtype='object')"
      ]
     },
     "execution_count": 981,
     "metadata": {},
     "output_type": "execute_result"
    }
   ],
   "source": [
    "train.columns"
   ]
  },
  {
   "cell_type": "code",
   "execution_count": 982,
   "metadata": {
    "scrolled": false
   },
   "outputs": [
    {
     "name": "stdout",
     "output_type": "stream",
     "text": [
      "<class 'pandas.core.frame.DataFrame'>\n",
      "RangeIndex: 47803 entries, 0 to 47802\n",
      "Data columns (total 37 columns):\n",
      "animal_id_outcome             47803 non-null object\n",
      "dob_year                      47803 non-null int64\n",
      "dob_month                     47803 non-null int64\n",
      "age_upon_intake               47803 non-null object\n",
      "animal_type                   47803 non-null object\n",
      "breed                         47803 non-null object\n",
      "color                         47803 non-null object\n",
      "intake_condition              47803 non-null object\n",
      "intake_type                   47803 non-null object\n",
      "sex_upon_intake               47802 non-null object\n",
      "count                         47803 non-null int64\n",
      "age_upon_intake_(days)        47803 non-null int64\n",
      "age_upon_intake_(years)       47803 non-null float64\n",
      "age_upon_intake_age_group     47803 non-null object\n",
      "intake_datetime               47803 non-null object\n",
      "intake_month                  47803 non-null int64\n",
      "intake_year                   47803 non-null int64\n",
      "intake_monthyear              47803 non-null object\n",
      "intake_weekday                47803 non-null object\n",
      "intake_hour                   47803 non-null int64\n",
      "intake_number                 47803 non-null float64\n",
      "time_in_shelter               47803 non-null object\n",
      "time_in_shelter_days          47803 non-null float64\n",
      "age_upon_outcome              47803 non-null object\n",
      "date_of_birth                 47803 non-null object\n",
      "sex_upon_outcome              47802 non-null object\n",
      "age_upon_outcome_(days)       47803 non-null int64\n",
      "age_upon_outcome_(years)      47803 non-null float64\n",
      "age_upon_outcome_age_group    47803 non-null object\n",
      "outcome_datetime              38184 non-null object\n",
      "outcome_month                 47803 non-null int64\n",
      "outcome_year                  47803 non-null int64\n",
      "outcome_monthyear             47803 non-null object\n",
      "outcome_weekday               47803 non-null object\n",
      "outcome_hour                  47803 non-null int64\n",
      "outcome_number                47803 non-null float64\n",
      "outcome_type                  47803 non-null object\n",
      "dtypes: float64(5), int64(11), object(21)\n",
      "memory usage: 9.7+ MB\n"
     ]
    }
   ],
   "source": [
    "train.info()"
   ]
  },
  {
   "cell_type": "code",
   "execution_count": 983,
   "metadata": {
    "scrolled": false
   },
   "outputs": [
    {
     "data": {
      "text/html": [
       "<div>\n",
       "<style scoped>\n",
       "    .dataframe tbody tr th:only-of-type {\n",
       "        vertical-align: middle;\n",
       "    }\n",
       "\n",
       "    .dataframe tbody tr th {\n",
       "        vertical-align: top;\n",
       "    }\n",
       "\n",
       "    .dataframe thead th {\n",
       "        text-align: right;\n",
       "    }\n",
       "</style>\n",
       "<table border=\"1\" class=\"dataframe\">\n",
       "  <thead>\n",
       "    <tr style=\"text-align: right;\">\n",
       "      <th></th>\n",
       "      <th>dob_year</th>\n",
       "      <th>dob_month</th>\n",
       "      <th>count</th>\n",
       "      <th>age_upon_intake_(days)</th>\n",
       "      <th>age_upon_intake_(years)</th>\n",
       "      <th>intake_month</th>\n",
       "      <th>intake_year</th>\n",
       "      <th>intake_hour</th>\n",
       "      <th>intake_number</th>\n",
       "      <th>time_in_shelter_days</th>\n",
       "      <th>age_upon_outcome_(days)</th>\n",
       "      <th>age_upon_outcome_(years)</th>\n",
       "      <th>outcome_month</th>\n",
       "      <th>outcome_year</th>\n",
       "      <th>outcome_hour</th>\n",
       "      <th>outcome_number</th>\n",
       "    </tr>\n",
       "  </thead>\n",
       "  <tbody>\n",
       "    <tr>\n",
       "      <th>count</th>\n",
       "      <td>47803.000000</td>\n",
       "      <td>47803.000000</td>\n",
       "      <td>47803.0</td>\n",
       "      <td>47803.000000</td>\n",
       "      <td>47803.000000</td>\n",
       "      <td>47803.000000</td>\n",
       "      <td>47803.000000</td>\n",
       "      <td>47803.000000</td>\n",
       "      <td>47803.000000</td>\n",
       "      <td>47803.000000</td>\n",
       "      <td>47803.000000</td>\n",
       "      <td>47803.000000</td>\n",
       "      <td>47803.000000</td>\n",
       "      <td>47803.000000</td>\n",
       "      <td>47803.000000</td>\n",
       "      <td>47803.000000</td>\n",
       "    </tr>\n",
       "    <tr>\n",
       "      <th>mean</th>\n",
       "      <td>2012.197728</td>\n",
       "      <td>6.337531</td>\n",
       "      <td>1.0</td>\n",
       "      <td>841.679915</td>\n",
       "      <td>2.305972</td>\n",
       "      <td>6.596113</td>\n",
       "      <td>2014.600046</td>\n",
       "      <td>13.549087</td>\n",
       "      <td>1.144552</td>\n",
       "      <td>17.143366</td>\n",
       "      <td>855.319729</td>\n",
       "      <td>2.343342</td>\n",
       "      <td>6.650587</td>\n",
       "      <td>2014.638893</td>\n",
       "      <td>14.381545</td>\n",
       "      <td>1.144552</td>\n",
       "    </tr>\n",
       "    <tr>\n",
       "      <th>std</th>\n",
       "      <td>3.068255</td>\n",
       "      <td>3.342038</td>\n",
       "      <td>0.0</td>\n",
       "      <td>1100.557953</td>\n",
       "      <td>3.015227</td>\n",
       "      <td>3.460172</td>\n",
       "      <td>0.905731</td>\n",
       "      <td>3.179397</td>\n",
       "      <td>0.500055</td>\n",
       "      <td>46.600727</td>\n",
       "      <td>1103.598596</td>\n",
       "      <td>3.023558</td>\n",
       "      <td>3.490263</td>\n",
       "      <td>0.912706</td>\n",
       "      <td>3.456145</td>\n",
       "      <td>0.500055</td>\n",
       "    </tr>\n",
       "    <tr>\n",
       "      <th>min</th>\n",
       "      <td>1992.000000</td>\n",
       "      <td>1.000000</td>\n",
       "      <td>1.0</td>\n",
       "      <td>0.000000</td>\n",
       "      <td>0.000000</td>\n",
       "      <td>1.000000</td>\n",
       "      <td>2013.000000</td>\n",
       "      <td>0.000000</td>\n",
       "      <td>1.000000</td>\n",
       "      <td>0.000694</td>\n",
       "      <td>0.000000</td>\n",
       "      <td>0.000000</td>\n",
       "      <td>1.000000</td>\n",
       "      <td>2013.000000</td>\n",
       "      <td>0.000000</td>\n",
       "      <td>1.000000</td>\n",
       "    </tr>\n",
       "    <tr>\n",
       "      <th>25%</th>\n",
       "      <td>2011.000000</td>\n",
       "      <td>4.000000</td>\n",
       "      <td>1.0</td>\n",
       "      <td>60.000000</td>\n",
       "      <td>0.164384</td>\n",
       "      <td>4.000000</td>\n",
       "      <td>2014.000000</td>\n",
       "      <td>11.000000</td>\n",
       "      <td>1.000000</td>\n",
       "      <td>1.049653</td>\n",
       "      <td>90.000000</td>\n",
       "      <td>0.246575</td>\n",
       "      <td>4.000000</td>\n",
       "      <td>2014.000000</td>\n",
       "      <td>12.000000</td>\n",
       "      <td>1.000000</td>\n",
       "    </tr>\n",
       "    <tr>\n",
       "      <th>50%</th>\n",
       "      <td>2013.000000</td>\n",
       "      <td>6.000000</td>\n",
       "      <td>1.0</td>\n",
       "      <td>365.000000</td>\n",
       "      <td>1.000000</td>\n",
       "      <td>7.000000</td>\n",
       "      <td>2015.000000</td>\n",
       "      <td>13.000000</td>\n",
       "      <td>1.000000</td>\n",
       "      <td>4.972222</td>\n",
       "      <td>365.000000</td>\n",
       "      <td>1.000000</td>\n",
       "      <td>7.000000</td>\n",
       "      <td>2015.000000</td>\n",
       "      <td>15.000000</td>\n",
       "      <td>1.000000</td>\n",
       "    </tr>\n",
       "    <tr>\n",
       "      <th>75%</th>\n",
       "      <td>2014.000000</td>\n",
       "      <td>9.000000</td>\n",
       "      <td>1.0</td>\n",
       "      <td>1095.000000</td>\n",
       "      <td>3.000000</td>\n",
       "      <td>10.000000</td>\n",
       "      <td>2015.000000</td>\n",
       "      <td>16.000000</td>\n",
       "      <td>1.000000</td>\n",
       "      <td>13.113889</td>\n",
       "      <td>1095.000000</td>\n",
       "      <td>3.000000</td>\n",
       "      <td>10.000000</td>\n",
       "      <td>2015.000000</td>\n",
       "      <td>17.000000</td>\n",
       "      <td>1.000000</td>\n",
       "    </tr>\n",
       "    <tr>\n",
       "      <th>max</th>\n",
       "      <td>2016.000000</td>\n",
       "      <td>12.000000</td>\n",
       "      <td>1.0</td>\n",
       "      <td>8030.000000</td>\n",
       "      <td>22.000000</td>\n",
       "      <td>12.000000</td>\n",
       "      <td>2018.000000</td>\n",
       "      <td>23.000000</td>\n",
       "      <td>13.000000</td>\n",
       "      <td>1606.194444</td>\n",
       "      <td>8030.000000</td>\n",
       "      <td>22.000000</td>\n",
       "      <td>12.000000</td>\n",
       "      <td>2018.000000</td>\n",
       "      <td>23.000000</td>\n",
       "      <td>13.000000</td>\n",
       "    </tr>\n",
       "  </tbody>\n",
       "</table>\n",
       "</div>"
      ],
      "text/plain": [
       "           dob_year     dob_month    count  age_upon_intake_(days)  \\\n",
       "count  47803.000000  47803.000000  47803.0            47803.000000   \n",
       "mean    2012.197728      6.337531      1.0              841.679915   \n",
       "std        3.068255      3.342038      0.0             1100.557953   \n",
       "min     1992.000000      1.000000      1.0                0.000000   \n",
       "25%     2011.000000      4.000000      1.0               60.000000   \n",
       "50%     2013.000000      6.000000      1.0              365.000000   \n",
       "75%     2014.000000      9.000000      1.0             1095.000000   \n",
       "max     2016.000000     12.000000      1.0             8030.000000   \n",
       "\n",
       "       age_upon_intake_(years)  intake_month   intake_year   intake_hour  \\\n",
       "count             47803.000000  47803.000000  47803.000000  47803.000000   \n",
       "mean                  2.305972      6.596113   2014.600046     13.549087   \n",
       "std                   3.015227      3.460172      0.905731      3.179397   \n",
       "min                   0.000000      1.000000   2013.000000      0.000000   \n",
       "25%                   0.164384      4.000000   2014.000000     11.000000   \n",
       "50%                   1.000000      7.000000   2015.000000     13.000000   \n",
       "75%                   3.000000     10.000000   2015.000000     16.000000   \n",
       "max                  22.000000     12.000000   2018.000000     23.000000   \n",
       "\n",
       "       intake_number  time_in_shelter_days  age_upon_outcome_(days)  \\\n",
       "count   47803.000000          47803.000000             47803.000000   \n",
       "mean        1.144552             17.143366               855.319729   \n",
       "std         0.500055             46.600727              1103.598596   \n",
       "min         1.000000              0.000694                 0.000000   \n",
       "25%         1.000000              1.049653                90.000000   \n",
       "50%         1.000000              4.972222               365.000000   \n",
       "75%         1.000000             13.113889              1095.000000   \n",
       "max        13.000000           1606.194444              8030.000000   \n",
       "\n",
       "       age_upon_outcome_(years)  outcome_month  outcome_year  outcome_hour  \\\n",
       "count              47803.000000   47803.000000  47803.000000  47803.000000   \n",
       "mean                   2.343342       6.650587   2014.638893     14.381545   \n",
       "std                    3.023558       3.490263      0.912706      3.456145   \n",
       "min                    0.000000       1.000000   2013.000000      0.000000   \n",
       "25%                    0.246575       4.000000   2014.000000     12.000000   \n",
       "50%                    1.000000       7.000000   2015.000000     15.000000   \n",
       "75%                    3.000000      10.000000   2015.000000     17.000000   \n",
       "max                   22.000000      12.000000   2018.000000     23.000000   \n",
       "\n",
       "       outcome_number  \n",
       "count    47803.000000  \n",
       "mean         1.144552  \n",
       "std          0.500055  \n",
       "min          1.000000  \n",
       "25%          1.000000  \n",
       "50%          1.000000  \n",
       "75%          1.000000  \n",
       "max         13.000000  "
      ]
     },
     "execution_count": 983,
     "metadata": {},
     "output_type": "execute_result"
    }
   ],
   "source": [
    "train.describe()"
   ]
  },
  {
   "cell_type": "code",
   "execution_count": 984,
   "metadata": {
    "scrolled": false
   },
   "outputs": [
    {
     "data": {
      "text/plain": [
       "Text(0, 0.5, 'Count')"
      ]
     },
     "execution_count": 984,
     "metadata": {},
     "output_type": "execute_result"
    },
    {
     "data": {
      "image/png": "[encoded data removed]",
      "text/plain": [
       "<Figure size 864x360 with 1 Axes>"
      ]
     },
     "metadata": {
      "needs_background": "light"
     },
     "output_type": "display_data"
    }
   ],
   "source": [
    "plt.figure(figsize=(12,5))\n",
    "train['outcome_type'].value_counts().plot('bar')\n",
    "plt.title('Each outcome type count')\n",
    "plt.xticks(rotation=45)\n",
    "plt.xlabel('Outcome Types')\n",
    "plt.ylabel('Count')"
   ]
  },
  {
   "cell_type": "code",
   "execution_count": 985,
   "metadata": {},
   "outputs": [
    {
     "data": {
      "text/plain": [
       "Adoption           27.125913\n",
       "Transfer           21.640901\n",
       "Return to Owner    20.329268\n",
       "Euthanasia          8.668912\n",
       "Died                5.918039\n",
       "Missing             5.436897\n",
       "Relocate            5.382507\n",
       "Rto-Adopt           5.125201\n",
       "Disposal            0.372362\n",
       "Name: outcome_type, dtype: float64"
      ]
     },
     "execution_count": 985,
     "metadata": {},
     "output_type": "execute_result"
    }
   ],
   "source": [
    "train['outcome_type'].value_counts()/len(train)*100"
   ]
  },
  {
   "cell_type": "markdown",
   "metadata": {},
   "source": [
    "<h3>Observations:</h3>\n",
    "            \n",
    "        * count column has only one value : 1\n",
    "        * does intake_number and outcome_number columns hold same value? If yes, any one of the columns can be dropped\n",
    "          to avoid multicolinearity      \n",
    "        * age_upon_intake can be coverted to int dtype\n",
    "        * we have only 4 unique animal_types\n",
    "        * intake_hour, intake_month, intake_year, intake_monthyear, intake_weekday columns have been created from\n",
    "          intake_datetime column and this column can be used to create additional features. intake_monthyear column can be\n",
    "          dropped to avoid multicolinearity.\n",
    "        * time_in_shelter and time_in_shelter_days columns present the same value in different units.\n",
    "        * age_upon_intake, age_upon_intake_(years) has almost same values and is true for outcome columns as well.\n",
    "        * age_group bin can be modified with a class that represents this age group\n",
    "        * outcome_datetime value has 20% missing value and can be dropped as we already have calculated outcome_month,\n",
    "          outcome_year, outcome_monthyear, outcome_weekday, outcome_hour columns calculated from the this column. \n",
    "        * outcome types are highly imbalanced, we may upsampling, downsampling or SMOTE technique and need to choose \n",
    "          training, validation set carefully\n"
   ]
  },
  {
   "cell_type": "markdown",
   "metadata": {},
   "source": [
    "<h3>Data Cleaning</h3>"
   ]
  },
  {
   "cell_type": "code",
   "execution_count": 986,
   "metadata": {},
   "outputs": [
    {
     "data": {
      "text/plain": [
       "True"
      ]
     },
     "execution_count": 986,
     "metadata": {},
     "output_type": "execute_result"
    }
   ],
   "source": [
    "train.outcome_number.equals(train.intake_number)"
   ]
  },
  {
   "cell_type": "markdown",
   "metadata": {},
   "source": [
    "* does intake_number and outcome_number columns hold same value?\n",
    "        Yes! Let's drop outcome_number colum for now"
   ]
  },
  {
   "cell_type": "code",
   "execution_count": 987,
   "metadata": {},
   "outputs": [
    {
     "data": {
      "text/plain": [
       "Index(['animal_id_outcome', 'dob_year', 'dob_month', 'age_upon_intake',\n",
       "       'animal_type', 'breed', 'color', 'intake_condition', 'intake_type',\n",
       "       'sex_upon_intake', 'count', 'age_upon_intake_(days)',\n",
       "       'age_upon_intake_(years)', 'age_upon_intake_age_group',\n",
       "       'intake_datetime', 'intake_month', 'intake_year', 'intake_monthyear',\n",
       "       'intake_weekday', 'intake_hour', 'intake_number', 'time_in_shelter',\n",
       "       'time_in_shelter_days', 'age_upon_outcome', 'date_of_birth',\n",
       "       'sex_upon_outcome', 'age_upon_outcome_(days)',\n",
       "       'age_upon_outcome_(years)', 'age_upon_outcome_age_group',\n",
       "       'outcome_datetime', 'outcome_month', 'outcome_year',\n",
       "       'outcome_monthyear', 'outcome_weekday', 'outcome_hour',\n",
       "       'outcome_number', 'outcome_type'],\n",
       "      dtype='object')"
      ]
     },
     "execution_count": 987,
     "metadata": {},
     "output_type": "execute_result"
    }
   ],
   "source": [
    "train.columns"
   ]
  },
  {
   "cell_type": "code",
   "execution_count": 988,
   "metadata": {
    "scrolled": false
   },
   "outputs": [
    {
     "data": {
      "text/plain": [
       "214"
      ]
     },
     "execution_count": 988,
     "metadata": {},
     "output_type": "execute_result"
    }
   ],
   "source": [
    "incorrectly_labelled = list(train.loc[(train['outcome_number']>=2) & (train['outcome_type']=='Died')].groupby('animal_id_outcome').size().sort_values(ascending=False).index)\n",
    "len(incorrectly_labelled)"
   ]
  },
  {
   "cell_type": "markdown",
   "metadata": {},
   "source": [
    "<h3>The outcome_number and target label seem to have discrepancy</h3>\n",
    "\n",
    "        * For the animal_id :A705625, It was brought to org first time on 2015-07 as an Intact Male and has \n",
    "          and has outcome_type:Died. The same animal has come in again as neutered male on  2016-04. Had this \n",
    "          animal died on its first visit it couldn't have come the next time.\n",
    "        * This case is true for all the died animals that has outcome_number>=2. The outcome label has 'Died' on \n",
    "          their first visit yet there have been another occurence.\n",
    "        * Need to check the lables of other animals that came in multiple times\n"
   ]
  },
  {
   "cell_type": "code",
   "execution_count": 989,
   "metadata": {
    "scrolled": false
   },
   "outputs": [
    {
     "data": {
      "image/png": "[encoded data removed]",
      "text/plain": [
       "<Figure size 1080x720 with 5 Axes>"
      ]
     },
     "metadata": {
      "needs_background": "light"
     },
     "output_type": "display_data"
    }
   ],
   "source": [
    "plt.figure(figsize=(15,10))\n",
    "\n",
    "plt.subplot(321)\n",
    "train[(train['sex_upon_intake']== 'Intact Female') & (train['sex_upon_outcome']== 'Spayed Female')]['outcome_type'].value_counts().plot('bar')\n",
    "plt.title('Female came in for castration')\n",
    "plt.xticks(rotation=45)\n",
    "\n",
    "plt.subplot(322)\n",
    "train[(train['sex_upon_intake'] == 'Intact Male') & (train['sex_upon_outcome'] == 'Neutered Male')]['outcome_type'].value_counts().plot('bar')\n",
    "plt.title('Male came in for castration')\n",
    "plt.xticks(rotation=45)\n",
    "\n",
    "plt.subplot(323)\n",
    "train[(train['sex_upon_intake'] == 'Spayed Female') & (train['sex_upon_outcome'] == 'Spayed Female')]['outcome_type'].value_counts().plot('bar')\n",
    "plt.title('Castrated Female')\n",
    "plt.xticks(rotation=45)\n",
    "\n",
    "plt.subplot(324)\n",
    "train[(train['sex_upon_intake'] == 'Neutered Male') & (train['sex_upon_outcome'] == 'Neutered Male')]['outcome_type'].value_counts().plot('bar')\n",
    "plt.title('Castrated Male')\n",
    "plt.xticks(rotation=45)\n",
    "\n",
    "plt.subplot(313)\n",
    "train[(train['sex_upon_outcome'] == 'Spayed Female') | (train['sex_upon_outcome'] == 'Neutered Male')]['outcome_type'].value_counts().plot('bar')\n",
    "plt.title('Overall Distribution')\n",
    "plt.xticks(rotation=45)\n",
    "\n",
    "plt.tight_layout()"
   ]
  },
  {
   "cell_type": "markdown",
   "metadata": {},
   "source": [
    "**NOTE:** Spayed females and Neutered Males that came into the organization for castration are more likely to get adopeted. A new feature can be created around this."
   ]
  },
  {
   "cell_type": "code",
   "execution_count": 990,
   "metadata": {},
   "outputs": [
    {
     "data": {
      "text/plain": [
       "array(['Dog', 'Cat', 'Other', 'Bird'], dtype=object)"
      ]
     },
     "execution_count": 990,
     "metadata": {},
     "output_type": "execute_result"
    }
   ],
   "source": [
    "train.animal_type.unique()"
   ]
  },
  {
   "cell_type": "code",
   "execution_count": 991,
   "metadata": {},
   "outputs": [
    {
     "data": {
      "image/png": "[encoded data removed]",
      "text/plain": [
       "<Figure size 1440x720 with 4 Axes>"
      ]
     },
     "metadata": {
      "needs_background": "light"
     },
     "output_type": "display_data"
    }
   ],
   "source": [
    "fig, axes = plt.subplots(2, 2, figsize=(20, 10))\n",
    "\n",
    "x = sns.countplot(x='outcome_type', data=train[train['animal_type']=='Dog'], ax=axes[0,0])\n",
    "x.set_xticklabels(x.get_xticklabels(), rotation=45)\n",
    "\n",
    "x = sns.countplot(x='outcome_type', data=train[train['animal_type']=='Cat'], ax=axes[0,1])\n",
    "x.set_xticklabels(x.get_xticklabels(), rotation=45)\n",
    "\n",
    "x = sns.countplot(x='outcome_type', data=train[train['animal_type']=='Bird'], ax=axes[1,0])\n",
    "x.set_xticklabels(x.get_xticklabels(), rotation=45)\n",
    "\n",
    "x = sns.countplot(x='outcome_type', data=train[train['animal_type']=='Other'], ax=axes[1,1])\n",
    "x.set_xticklabels(x.get_xticklabels(), rotation=45)\n",
    "\n",
    "axes[0][0].set_title(\"Dog\")\n",
    "axes[0][1].set_title(\"Cat\")\n",
    "axes[1][0].set_title(\"Bird\")\n",
    "axes[1][1].set_title(\"Other\")\n",
    "\n",
    "\n",
    "plt.tight_layout()"
   ]
  },
  {
   "cell_type": "markdown",
   "metadata": {},
   "source": [
    "**NOTE**        \n",
    "        \n",
    "        1.Dogs are mostly adopted and returned to owner and some of them are transfered\n",
    "        2.Cats are mostly transfered\n",
    "        3.Unknown other animals are euthanized mostly"
   ]
  },
  {
   "cell_type": "code",
   "execution_count": 992,
   "metadata": {},
   "outputs": [
    {
     "data": {
      "image/png": "[encoded data removed]",
      "text/plain": [
       "<Figure size 1440x2160 with 8 Axes>"
      ]
     },
     "metadata": {
      "needs_background": "light"
     },
     "output_type": "display_data"
    }
   ],
   "source": [
    "fig, axes = plt.subplots(4, 2, figsize=(20, 30))\n",
    "\n",
    "x = sns.countplot(x='outcome_type', data=train[train['intake_condition']=='Aged'], ax=axes[0,0])\n",
    "x.set_xticklabels(x.get_xticklabels(), rotation=45)\n",
    "\n",
    "x = sns.countplot(x='outcome_type', data=train[train['intake_condition']=='Feral'], ax=axes[0,1])\n",
    "x.set_xticklabels(x.get_xticklabels(), rotation=45)\n",
    "\n",
    "x = sns.countplot(x='outcome_type', data=train[train['intake_condition']=='Injured'], ax=axes[1,0])\n",
    "x.set_xticklabels(x.get_xticklabels(), rotation=45)\n",
    "\n",
    "x = sns.countplot(x='outcome_type', data=train[train['intake_condition']=='Normal'], ax=axes[1,1])\n",
    "x.set_xticklabels(x.get_xticklabels(), rotation=45)\n",
    "\n",
    "x = sns.countplot(x='outcome_type', data=train[train['intake_condition']=='Nursing'], ax=axes[2,0])\n",
    "x.set_xticklabels(x.get_xticklabels(), rotation=45)\n",
    "\n",
    "x = sns.countplot(x='outcome_type', data=train[train['intake_condition']=='Other'], ax=axes[2,1])\n",
    "x.set_xticklabels(x.get_xticklabels(), rotation=45)\n",
    "\n",
    "x = sns.countplot(x='outcome_type', data=train[train['intake_condition']=='Pregnant'], ax=axes[3,0])\n",
    "x.set_xticklabels(x.get_xticklabels(), rotation=45)\n",
    "\n",
    "x = sns.countplot(x='outcome_type', data=train[train['intake_condition']=='Sick'], ax=axes[3,1])\n",
    "x.set_xticklabels(x.get_xticklabels(), rotation=45)\n",
    "\n",
    "axes[0][0].set_title(\"Aged\")\n",
    "axes[0][1].set_title(\"Feral\")\n",
    "axes[1][0].set_title(\"Injured\")\n",
    "axes[1][1].set_title(\"Normal\")\n",
    "axes[2][0].set_title(\"Nursing\")\n",
    "axes[2][1].set_title(\"Other\")\n",
    "axes[3][0].set_title(\"Pregnant\")\n",
    "axes[3][1].set_title(\"Sick\")\n",
    "\n",
    "\n",
    "plt.tight_layout()"
   ]
  },
  {
   "cell_type": "markdown",
   "metadata": {},
   "source": [
    "**NOTE**\n",
    "\n",
    "    *Intake condition feature seem  to play important role in outcome_type determination.\n",
    "    *Aged animals are mostly returned to owners\n",
    "    *Injured, Sicked ones are euthanized\n",
    "    *Feral, Nursing types are often transfered"
   ]
  },
  {
   "cell_type": "markdown",
   "metadata": {},
   "source": [
    "<h3>Feature Engineering</h3>"
   ]
  },
  {
   "cell_type": "code",
   "execution_count": 993,
   "metadata": {},
   "outputs": [
    {
     "name": "stdout",
     "output_type": "stream",
     "text": [
      "<class 'pandas.core.frame.DataFrame'>\n",
      "RangeIndex: 47803 entries, 0 to 47802\n",
      "Data columns (total 37 columns):\n",
      "animal_id_outcome             47803 non-null object\n",
      "dob_year                      47803 non-null int64\n",
      "dob_month                     47803 non-null int64\n",
      "age_upon_intake               47803 non-null object\n",
      "animal_type                   47803 non-null object\n",
      "breed                         47803 non-null object\n",
      "color                         47803 non-null object\n",
      "intake_condition              47803 non-null object\n",
      "intake_type                   47803 non-null object\n",
      "sex_upon_intake               47802 non-null object\n",
      "count                         47803 non-null int64\n",
      "age_upon_intake_(days)        47803 non-null int64\n",
      "age_upon_intake_(years)       47803 non-null float64\n",
      "age_upon_intake_age_group     47803 non-null object\n",
      "intake_datetime               47803 non-null object\n",
      "intake_month                  47803 non-null int64\n",
      "intake_year                   47803 non-null int64\n",
      "intake_monthyear              47803 non-null object\n",
      "intake_weekday                47803 non-null object\n",
      "intake_hour                   47803 non-null int64\n",
      "intake_number                 47803 non-null float64\n",
      "time_in_shelter               47803 non-null object\n",
      "time_in_shelter_days          47803 non-null float64\n",
      "age_upon_outcome              47803 non-null object\n",
      "date_of_birth                 47803 non-null object\n",
      "sex_upon_outcome              47802 non-null object\n",
      "age_upon_outcome_(days)       47803 non-null int64\n",
      "age_upon_outcome_(years)      47803 non-null float64\n",
      "age_upon_outcome_age_group    47803 non-null object\n",
      "outcome_datetime              38184 non-null object\n",
      "outcome_month                 47803 non-null int64\n",
      "outcome_year                  47803 non-null int64\n",
      "outcome_monthyear             47803 non-null object\n",
      "outcome_weekday               47803 non-null object\n",
      "outcome_hour                  47803 non-null int64\n",
      "outcome_number                47803 non-null float64\n",
      "outcome_type                  47803 non-null object\n",
      "dtypes: float64(5), int64(11), object(21)\n",
      "memory usage: 9.7+ MB\n"
     ]
    }
   ],
   "source": [
    "train.info()"
   ]
  },
  {
   "cell_type": "code",
   "execution_count": 994,
   "metadata": {},
   "outputs": [],
   "source": [
    "#Based on the analysis and intution dropping the below columns and will create few of them from scratch\n",
    "train.drop(labels = ['dob_year', 'dob_month', 'age_upon_intake', 'count', 'age_upon_intake_(years)', 'age_upon_intake_age_group', \n",
    "'intake_month', 'intake_year', 'intake_monthyear', 'intake_weekday', 'intake_hour', 'time_in_shelter', 'intake_number',\n",
    "'date_of_birth', 'age_upon_outcome_(days)','age_upon_outcome', 'age_upon_outcome_(years)', 'age_upon_outcome_age_group', 'outcome_datetime',\n",
    "'outcome_month', 'outcome_year', 'outcome_monthyear', 'outcome_weekday', 'outcome_hour', 'outcome_number'], axis=1, inplace=True)"
   ]
  },
  {
   "cell_type": "markdown",
   "metadata": {},
   "source": [
    "*Quick google search says purebred dogs are expensive and Mixed breeds have a lower chance of being \n",
    "born with an inherited congenital disease. This may have an effect on the outcome_type.*\n",
    "          \n",
    "*Creating isMix feature from this colum*"
   ]
  },
  {
   "cell_type": "code",
   "execution_count": 995,
   "metadata": {},
   "outputs": [],
   "source": [
    "train['isMix'] = len(train)*0\n",
    "train.loc[(train.breed.str.lower().str.contains('mix')) | (train.breed.str.lower().str.contains('/')), 'isMix'] = 1"
   ]
  },
  {
   "cell_type": "markdown",
   "metadata": {},
   "source": [
    "*Creating a column to keep No.of colors of the animal has*"
   ]
  },
  {
   "cell_type": "code",
   "execution_count": 996,
   "metadata": {
    "scrolled": false
   },
   "outputs": [],
   "source": [
    "train['n_colors'] = train.color.str.split('/').apply(lambda x: len(x))\n",
    "\n",
    "train.loc[train.color.str.lower().str.contains('tricolor'),'n_colors'] = 3"
   ]
  },
  {
   "cell_type": "markdown",
   "metadata": {},
   "source": [
    "*Extracting as many info from intake_datetime column as required*"
   ]
  },
  {
   "cell_type": "code",
   "execution_count": 997,
   "metadata": {
    "scrolled": true
   },
   "outputs": [],
   "source": [
    "train['intake_datetime'] = pd.to_datetime(train['intake_datetime'])\n",
    "train['intake_year'] = train['intake_datetime'].dt.year\n",
    "train['intake_month'] = train['intake_datetime'].dt.month\n",
    "train['intake_day'] = train['intake_datetime'].dt.day\n",
    "train['intake_dayoftheyear'] = train['intake_datetime'].dt.dayofyear\n",
    "train['day_of_week'] = train['intake_datetime'].dt.dayofweek\n",
    "train['is_weekend'] = (train['intake_datetime'].dt.weekday>=5).astype(int)\n",
    "train['week'] = train['intake_datetime'].dt.week"
   ]
  },
  {
   "cell_type": "markdown",
   "metadata": {},
   "source": [
    "*Creating Outcome_datetime feature based on intake_time and time spent in shelter*"
   ]
  },
  {
   "cell_type": "code",
   "execution_count": 998,
   "metadata": {
    "scrolled": true
   },
   "outputs": [],
   "source": [
    "train['outcome_datetime'] = train['intake_datetime'] + (train['time_in_shelter_days']*24).apply(lambda x: datetime.timedelta(hours=x))"
   ]
  },
  {
   "cell_type": "code",
   "execution_count": 999,
   "metadata": {},
   "outputs": [],
   "source": [
    "train['outcome_year'] = train['outcome_datetime'].dt.year\n",
    "train['outcome_month'] = train['outcome_datetime'].dt.month\n",
    "train['outcome_day'] = train['outcome_datetime'].dt.day\n",
    "train['outcome_dayoftheyear'] = train['outcome_datetime'].dt.dayofyear\n",
    "train['outcome_day_of_week'] = train['outcome_datetime'].dt.dayofweek\n",
    "train['outcome_is_weekend'] = (train['outcome_datetime'].dt.weekday>=5).astype(int)\n",
    "train['outcome_week'] = train['outcome_datetime'].dt.week"
   ]
  },
  {
   "cell_type": "code",
   "execution_count": 1000,
   "metadata": {
    "scrolled": false
   },
   "outputs": [
    {
     "data": {
      "text/plain": [
       "(array([ 0,  1,  2,  3,  4,  5,  6,  7,  8,  9, 10, 11, 12, 13, 14, 15, 16,\n",
       "        17, 18, 19, 20, 21, 22, 23, 24, 25, 26, 27, 28, 29, 30, 31, 32, 33,\n",
       "        34, 35, 36, 37, 38, 39, 40, 41, 42, 43, 44, 45, 46, 47, 48, 49, 50,\n",
       "        51, 52, 53]), <a list of 54 Text xticklabel objects>)"
      ]
     },
     "execution_count": 1000,
     "metadata": {},
     "output_type": "execute_result"
    },
    {
     "data": {
      "image/png": "[encoded data removed]",
      "text/plain": [
       "<Figure size 1080x504 with 1 Axes>"
      ]
     },
     "metadata": {
      "needs_background": "light"
     },
     "output_type": "display_data"
    }
   ],
   "source": [
    "plt.figure(figsize=(15,7))\n",
    "(train.groupby(['intake_year','intake_month']).size()).plot('bar')\n",
    "plt.xticks(rotation=45)"
   ]
  },
  {
   "cell_type": "code",
   "execution_count": 1001,
   "metadata": {},
   "outputs": [
    {
     "data": {
      "text/plain": [
       "(array([ 0,  1,  2,  3,  4,  5,  6,  7,  8,  9, 10, 11, 12, 13, 14, 15, 16,\n",
       "        17, 18, 19, 20, 21, 22, 23, 24, 25, 26, 27, 28, 29, 30, 31, 32, 33,\n",
       "        34, 35, 36, 37, 38, 39, 40, 41, 42, 43, 44, 45, 46, 47, 48, 49, 50,\n",
       "        51, 52, 53, 54]), <a list of 55 Text xticklabel objects>)"
      ]
     },
     "execution_count": 1001,
     "metadata": {},
     "output_type": "execute_result"
    },
    {
     "data": {
      "image/png": "[encoded data removed]",
      "text/plain": [
       "<Figure size 1080x504 with 1 Axes>"
      ]
     },
     "metadata": {
      "needs_background": "light"
     },
     "output_type": "display_data"
    }
   ],
   "source": [
    "plt.figure(figsize=(15,7))\n",
    "(train.groupby(['outcome_year','outcome_month']).size()).plot('bar')\n",
    "plt.xticks(rotation=45)"
   ]
  },
  {
   "cell_type": "markdown",
   "metadata": {},
   "source": [
    "*There seem to be a spike in trend around April, May, June and No.of intake has plunged after Feb-2016*\n",
    "\n",
    "*For outcome, data spikes at May, June, July*"
   ]
  },
  {
   "cell_type": "code",
   "execution_count": 1002,
   "metadata": {
    "scrolled": true
   },
   "outputs": [
    {
     "data": {
      "text/plain": [
       "outcome_type     sex_upon_intake  sex_upon_outcome\n",
       "Return to Owner  Intact Female    Intact Female       1\n",
       "                 Intact Male      Intact Male         4\n",
       "                                  Neutered Male       5\n",
       "                 Neutered Male    Neutered Male       3\n",
       "                 Spayed Female    Spayed Female       5\n",
       "                 Unknown          Unknown             1\n",
       "dtype: int64"
      ]
     },
     "execution_count": 1002,
     "metadata": {},
     "output_type": "execute_result"
    }
   ],
   "source": [
    "train[(train.breed=='Dachshund')&(train['outcome_type']=='Return to Owner')].groupby(['outcome_type','sex_upon_intake','sex_upon_outcome']).size()"
   ]
  },
  {
   "cell_type": "code",
   "execution_count": 1003,
   "metadata": {},
   "outputs": [],
   "source": [
    "train.loc[train.animal_id_outcome=='A667395','sex_upon_intake'] = 'Spayed Female'\n",
    "train.loc[train.animal_id_outcome=='A667395','sex_upon_outcome'] = 'Spayed Female'"
   ]
  },
  {
   "cell_type": "code",
   "execution_count": 1004,
   "metadata": {},
   "outputs": [],
   "source": [
    "train['age_upon_outcome_(days)'] = train['age_upon_intake_(days)'] + train['time_in_shelter_days']"
   ]
  },
  {
   "cell_type": "code",
   "execution_count": 1005,
   "metadata": {},
   "outputs": [],
   "source": [
    "train['isCastrated'] = 0\n",
    "train.loc[(train['sex_upon_outcome'].str.lower().str.contains('neutered') | \n",
    "          train['sex_upon_outcome'].str.lower().str.contains('spayed')), 'isCastrated'] = 1\n",
    "train.loc[train['sex_upon_intake']=='Unknown', 'isCastrated'] = 2"
   ]
  },
  {
   "cell_type": "markdown",
   "metadata": {},
   "source": [
    "*Per analysis castrated animals are more likely for adoption, hence this feature*"
   ]
  },
  {
   "cell_type": "code",
   "execution_count": 1006,
   "metadata": {},
   "outputs": [],
   "source": [
    "train['sex'] = 1\n",
    "train.loc[(train['sex_upon_outcome'].str.lower().str.contains('female')), 'sex'] = 0\n",
    "train.loc[train['sex_upon_intake']=='Unknown', 'sex'] = 2"
   ]
  },
  {
   "cell_type": "code",
   "execution_count": 1007,
   "metadata": {},
   "outputs": [],
   "source": [
    "train['forCastration'] = 0\n",
    "train.loc[((train['sex_upon_outcome'].str.lower().str.contains('neutered') | \n",
    "          train['sex_upon_outcome'].str.lower().str.contains('spayed')) & \n",
    "          (train['sex_upon_intake'].str.lower().str.contains('intact'))),'forCastration' ] = 1\n",
    "\n",
    "train.loc[train['sex_upon_intake']=='Unknown', 'forCastration'] = 2"
   ]
  },
  {
   "cell_type": "code",
   "execution_count": 1008,
   "metadata": {},
   "outputs": [],
   "source": [
    "train.drop(labels =['animal_id_outcome','intake_datetime','outcome_datetime'],\n",
    "           axis=1, inplace=True)"
   ]
  },
  {
   "cell_type": "code",
   "execution_count": 1009,
   "metadata": {
    "scrolled": false
   },
   "outputs": [
    {
     "name": "stdout",
     "output_type": "stream",
     "text": [
      "<class 'pandas.core.frame.DataFrame'>\n",
      "RangeIndex: 47803 entries, 0 to 47802\n",
      "Data columns (total 30 columns):\n",
      "animal_type                47803 non-null object\n",
      "breed                      47803 non-null object\n",
      "color                      47803 non-null object\n",
      "intake_condition           47803 non-null object\n",
      "intake_type                47803 non-null object\n",
      "sex_upon_intake            47803 non-null object\n",
      "age_upon_intake_(days)     47803 non-null int64\n",
      "time_in_shelter_days       47803 non-null float64\n",
      "sex_upon_outcome           47803 non-null object\n",
      "outcome_type               47803 non-null object\n",
      "isMix                      47803 non-null int64\n",
      "n_colors                   47803 non-null int64\n",
      "intake_year                47803 non-null int64\n",
      "intake_month               47803 non-null int64\n",
      "intake_day                 47803 non-null int64\n",
      "intake_dayoftheyear        47803 non-null int64\n",
      "day_of_week                47803 non-null int64\n",
      "is_weekend                 47803 non-null int32\n",
      "week                       47803 non-null int64\n",
      "outcome_year               47803 non-null int64\n",
      "outcome_month              47803 non-null int64\n",
      "outcome_day                47803 non-null int64\n",
      "outcome_dayoftheyear       47803 non-null int64\n",
      "outcome_day_of_week        47803 non-null int64\n",
      "outcome_is_weekend         47803 non-null int32\n",
      "outcome_week               47803 non-null int64\n",
      "age_upon_outcome_(days)    47803 non-null float64\n",
      "isCastrated                47803 non-null int64\n",
      "sex                        47803 non-null int64\n",
      "forCastration              47803 non-null int64\n",
      "dtypes: float64(2), int32(2), int64(18), object(8)\n",
      "memory usage: 9.1+ MB\n"
     ]
    }
   ],
   "source": [
    "train.info()"
   ]
  },
  {
   "cell_type": "code",
   "execution_count": 1010,
   "metadata": {},
   "outputs": [
    {
     "data": {
      "text/plain": [
       "['animal_type',\n",
       " 'breed',\n",
       " 'color',\n",
       " 'intake_condition',\n",
       " 'intake_type',\n",
       " 'sex_upon_intake',\n",
       " 'sex_upon_outcome',\n",
       " 'outcome_type']"
      ]
     },
     "execution_count": 1010,
     "metadata": {},
     "output_type": "execute_result"
    }
   ],
   "source": [
    "to_encode = list(train.select_dtypes(include='object').columns)\n",
    "to_encode"
   ]
  },
  {
   "cell_type": "code",
   "execution_count": 1011,
   "metadata": {},
   "outputs": [],
   "source": [
    "from sklearn.preprocessing import LabelEncoder\n",
    "coder = LabelEncoder()\n",
    "\n",
    "train[to_encode] = train[to_encode].apply(coder.fit_transform)"
   ]
  },
  {
   "cell_type": "code",
   "execution_count": 1012,
   "metadata": {},
   "outputs": [],
   "source": [
    "x = train.copy()"
   ]
  },
  {
   "cell_type": "code",
   "execution_count": 1013,
   "metadata": {
    "scrolled": true
   },
   "outputs": [
    {
     "name": "stdout",
     "output_type": "stream",
     "text": [
      "<class 'pandas.core.frame.DataFrame'>\n",
      "RangeIndex: 47803 entries, 0 to 47802\n",
      "Data columns (total 47 columns):\n",
      "breed                      47803 non-null int32\n",
      "color                      47803 non-null int32\n",
      "age_upon_intake_(days)     47803 non-null int64\n",
      "time_in_shelter_days       47803 non-null float64\n",
      "outcome_type               47803 non-null int32\n",
      "isMix                      47803 non-null int64\n",
      "n_colors                   47803 non-null int64\n",
      "intake_year                47803 non-null int64\n",
      "intake_month               47803 non-null int64\n",
      "intake_day                 47803 non-null int64\n",
      "intake_dayoftheyear        47803 non-null int64\n",
      "day_of_week                47803 non-null int64\n",
      "is_weekend                 47803 non-null int32\n",
      "week                       47803 non-null int64\n",
      "outcome_year               47803 non-null int64\n",
      "outcome_month              47803 non-null int64\n",
      "outcome_day                47803 non-null int64\n",
      "outcome_dayoftheyear       47803 non-null int64\n",
      "outcome_day_of_week        47803 non-null int64\n",
      "outcome_is_weekend         47803 non-null int32\n",
      "outcome_week               47803 non-null int64\n",
      "age_upon_outcome_(days)    47803 non-null float64\n",
      "isCastrated                47803 non-null int64\n",
      "sex                        47803 non-null int64\n",
      "forCastration              47803 non-null int64\n",
      "animal_type_1              47803 non-null uint8\n",
      "animal_type_2              47803 non-null uint8\n",
      "animal_type_3              47803 non-null uint8\n",
      "intake_type_1              47803 non-null uint8\n",
      "intake_type_2              47803 non-null uint8\n",
      "intake_type_3              47803 non-null uint8\n",
      "intake_type_4              47803 non-null uint8\n",
      "sex_upon_intake_1          47803 non-null uint8\n",
      "sex_upon_intake_2          47803 non-null uint8\n",
      "sex_upon_intake_3          47803 non-null uint8\n",
      "sex_upon_intake_4          47803 non-null uint8\n",
      "sex_upon_outcome_1         47803 non-null uint8\n",
      "sex_upon_outcome_2         47803 non-null uint8\n",
      "sex_upon_outcome_3         47803 non-null uint8\n",
      "sex_upon_outcome_4         47803 non-null uint8\n",
      "intake_condition_1         47803 non-null uint8\n",
      "intake_condition_2         47803 non-null uint8\n",
      "intake_condition_3         47803 non-null uint8\n",
      "intake_condition_4         47803 non-null uint8\n",
      "intake_condition_5         47803 non-null uint8\n",
      "intake_condition_6         47803 non-null uint8\n",
      "intake_condition_7         47803 non-null uint8\n",
      "dtypes: float64(2), int32(5), int64(18), uint8(22)\n",
      "memory usage: 9.2 MB\n"
     ]
    }
   ],
   "source": [
    "ohe = ['animal_type', 'intake_type','sex_upon_intake','sex_upon_outcome','intake_condition']\n",
    "\n",
    "for i in ohe:\n",
    "    tmp = pd.get_dummies(train[i],prefix = i, drop_first=True)\n",
    "    train = pd.concat([train,tmp], axis=1)\n",
    "train.drop(labels=['animal_type', 'intake_type','sex_upon_intake','sex_upon_outcome','intake_condition'], axis=1, inplace=True)\n",
    "train.info()"
   ]
  },
  {
   "cell_type": "code",
   "execution_count": 1015,
   "metadata": {},
   "outputs": [],
   "source": [
    "y = train['outcome_type']\n",
    "train.drop(['outcome_type'], axis=1, inplace=True)\n",
    "X =train.copy()"
   ]
  },
  {
   "cell_type": "code",
   "execution_count": 1018,
   "metadata": {},
   "outputs": [],
   "source": [
    "from sklearn.model_selection import train_test_split\n",
    "X_train, X_test, y_train, y_test = train_test_split(X, y, random_state = 20)"
   ]
  },
  {
   "cell_type": "code",
   "execution_count": 1020,
   "metadata": {},
   "outputs": [
    {
     "ename": "ModuleNotFoundError",
     "evalue": "No module named 'xgboost'",
     "output_type": "error",
     "traceback": [
      "\u001b[1;31m---------------------------------------------------------------------------\u001b[0m",
      "\u001b[1;31mModuleNotFoundError\u001b[0m                       Traceback (most recent call last)",
      "\u001b[1;32m<ipython-input-1020-65ea98d78742>\u001b[0m in \u001b[0;36m<module>\u001b[1;34m\u001b[0m\n\u001b[0;32m      1\u001b[0m \u001b[1;32mfrom\u001b[0m \u001b[0msklearn\u001b[0m\u001b[1;33m.\u001b[0m\u001b[0mmodel_selection\u001b[0m \u001b[1;32mimport\u001b[0m \u001b[0mtrain_test_split\u001b[0m\u001b[1;33m\u001b[0m\u001b[1;33m\u001b[0m\u001b[0m\n\u001b[1;32m----> 2\u001b[1;33m \u001b[1;32mimport\u001b[0m \u001b[0mxgboost\u001b[0m \u001b[1;32mas\u001b[0m \u001b[0mxgb\u001b[0m\u001b[1;33m\u001b[0m\u001b[1;33m\u001b[0m\u001b[0m\n\u001b[0m\u001b[0;32m      3\u001b[0m \u001b[1;33m\u001b[0m\u001b[0m\n\u001b[0;32m      4\u001b[0m \u001b[0mxgb\u001b[0m \u001b[1;33m=\u001b[0m \u001b[0mxgb\u001b[0m\u001b[1;33m.\u001b[0m\u001b[0mXGBClassifier\u001b[0m\u001b[1;33m(\u001b[0m\u001b[0mn_jobs\u001b[0m\u001b[1;33m=\u001b[0m\u001b[1;33m-\u001b[0m\u001b[1;36m1\u001b[0m\u001b[1;33m)\u001b[0m\u001b[1;33m\u001b[0m\u001b[1;33m\u001b[0m\u001b[0m\n\u001b[0;32m      5\u001b[0m \u001b[1;33m\u001b[0m\u001b[0m\n",
      "\u001b[1;31mModuleNotFoundError\u001b[0m: No module named 'xgboost'"
     ]
    }
   ],
   "source": [
    "from sklearn.model_selection import train_test_split\n",
    "import xgboost as xgb\n",
    "\n",
    "xgb = xgb.XGBClassifier(n_jobs=-1)\n",
    "\n",
    "xgb.fit(X_train, y_train)"
   ]
  }
 ],
 "metadata": {
  "kernelspec": {
   "display_name": "Python 3",
   "language": "python",
   "name": "python3"
  },
  "language_info": {
   "codemirror_mode": {
    "name": "ipython",
    "version": 3
   },
   "file_extension": ".py",
   "mimetype": "text/x-python",
   "name": "python",
   "nbconvert_exporter": "python",
   "pygments_lexer": "ipython3",
   "version": "3.7.4"
  }
 },
 "nbformat": 4,
 "nbformat_minor": 2
}
